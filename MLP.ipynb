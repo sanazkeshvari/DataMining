{
  "nbformat": 4,
  "nbformat_minor": 0,
  "metadata": {
    "colab": {
      "provenance": []
    },
    "kernelspec": {
      "name": "python3",
      "display_name": "Python 3"
    },
    "accelerator": "GPU"
  },
  "cells": [
    {
      "cell_type": "code",
      "metadata": {
        "id": "ebgJfFKH8L0G"
      },
      "source": [
        "from google.colab import drive\n",
        "import os\n",
        "drive.mount('/content/drive')\n",
        "os.chdir('/content/drive/My Drive/Colab Notebooks/')\n",
        "!pwd"
      ],
      "execution_count": null,
      "outputs": []
    },
    {
      "cell_type": "code",
      "metadata": {
        "id": "4Z88lAPp8B0r"
      },
      "source": [
        "import numpy as np\n",
        "from numpy import genfromtxt\n",
        "my_data = genfromtxt('newData.csv', delimiter=',')\n",
        "X = my_data[:,:5]\n",
        "Y = my_data[:,6]"
      ],
      "execution_count": null,
      "outputs": []
    },
    {
      "cell_type": "code",
      "metadata": {
        "id": "GNHI1aNz8g0c",
        "colab": {
          "base_uri": "https://localhost:8080/",
          "height": 151
        },
        "outputId": "c5a78b07-486a-49c2-c714-70a4f66b1c54"
      },
      "source": [
        "clabels = np.unique(Y, return_counts=True)\n",
        "nLables = []\n",
        "nLable = 0\n",
        "for i,j in np.transpose(clabels):\n",
        "    print('lable = ',i,'     count = ',j,'       newlable = ',nLable)\n",
        "    nLables.append((i,nLable))\n",
        "    nLable = nLable + 1"
      ],
      "execution_count": null,
      "outputs": [
        {
          "output_type": "stream",
          "text": [
            "lable =  1.0      count =  231976.0        newlable =  0\n",
            "lable =  3.0      count =  20721.0        newlable =  1\n",
            "lable =  5.0      count =  5789.0        newlable =  2\n",
            "lable =  8.0      count =  226.0        newlable =  3\n",
            "lable =  16.0      count =  261298.0        newlable =  4\n",
            "lable =  26.0      count =  39623.0        newlable =  5\n",
            "lable =  36.0      count =  1400.0        newlable =  6\n",
            "lable =  38.0      count =  102.0        newlable =  7\n"
          ],
          "name": "stdout"
        }
      ]
    },
    {
      "cell_type": "code",
      "metadata": {
        "id": "9PhkvL4Y_iyo"
      },
      "source": [
        "# painting labels\n",
        "for i in range(np.shape(Y)[0]):\n",
        "    for j,k in nLables:\n",
        "        if Y[i] == j:\n",
        "            Y[i] = k\n",
        "            break\n",
        "Y = np.int32(Y)"
      ],
      "execution_count": null,
      "outputs": []
    },
    {
      "cell_type": "code",
      "metadata": {
        "id": "Z8UMTZjuANrO",
        "colab": {
          "base_uri": "https://localhost:8080/",
          "height": 134
        },
        "outputId": "085cb6e5-5433-4a78-b2d2-974267ea8d5f"
      },
      "source": [
        "# creating one-hot vectors from labels to be used in NN\n",
        "import sklearn.preprocessing\n",
        "label_binarizer = sklearn.preprocessing.LabelBinarizer()\n",
        "label_binarizer.fit(range(max(Y)+1))\n",
        "Y = label_binarizer.transform(Y)\n",
        "\n",
        "print('{0}'.format(Y))"
      ],
      "execution_count": null,
      "outputs": [
        {
          "output_type": "stream",
          "text": [
            "[[1 0 0 ... 0 0 0]\n",
            " [1 0 0 ... 0 0 0]\n",
            " [1 0 0 ... 0 0 0]\n",
            " ...\n",
            " [0 0 0 ... 0 0 1]\n",
            " [0 0 0 ... 0 0 1]\n",
            " [0 0 0 ... 0 0 1]]\n"
          ],
          "name": "stdout"
        }
      ]
    },
    {
      "cell_type": "code",
      "metadata": {
        "id": "Tz6SUdLaCXNV",
        "colab": {
          "base_uri": "https://localhost:8080/",
          "height": 67
        },
        "outputId": "20be70b5-35c7-4dc0-fafb-630e56b0e289"
      },
      "source": [
        "from sklearn.model_selection import train_test_split\n",
        "\n",
        "X_train, X_test, Y_train, Y_test = train_test_split(X, Y, test_size=0.20, random_state=42, shuffle=True)\n",
        "X_train , X_val, Y_train, Y_val = train_test_split(X_train, Y_train, test_size=0.3, random_state=43, shuffle=True)\n",
        "print('Test Data = ', X_test.shape[0])\n",
        "print('Validation Data = ', X_val.shape[0])\n",
        "print('Train Data = ', X_train.shape[0])"
      ],
      "execution_count": null,
      "outputs": [
        {
          "output_type": "stream",
          "text": [
            "Test Data =  112227\n",
            "Validation Data =  134673\n",
            "Train Data =  314235\n"
          ],
          "name": "stdout"
        }
      ]
    },
    {
      "cell_type": "code",
      "metadata": {
        "id": "9vQ6f7wgCzwh",
        "colab": {
          "base_uri": "https://localhost:8080/",
          "height": 1000
        },
        "outputId": "46b7a55a-c459-4243-c2cf-3e5c7d54f1d0"
      },
      "source": [
        "from __future__ import print_function\n",
        "import keras\n",
        "from keras.models import Sequential\n",
        "from keras.layers import Dense, Dropout, Flatten\n",
        "from keras.layers import Conv2D, MaxPooling2D\n",
        "from keras import backend as K\n",
        "\n",
        "model = Sequential()\n",
        "model.add(Dense(5, activation='relu'))\n",
        "model.add(Dense(64, activation='relu'))\n",
        "model.add(Dense(32, activation='relu'))\n",
        "model.add(Dense(8, activation='relu'))\n",
        "model.add(Dense(8, activation='softmax'))\n",
        "model.compile(loss=keras.losses.binary_crossentropy,\n",
        "              optimizer=keras.optimizers.Adam(),\n",
        "              metrics=['accuracy'])\n",
        "\n",
        "model.fit(X_train, Y_train,\n",
        "          batch_size=1024,\n",
        "          epochs=30,\n",
        "          verbose=2,\n",
        "          validation_data=(X_val,Y_val))"
      ],
      "execution_count": null,
      "outputs": [
        {
          "output_type": "stream",
          "text": [
            "Using TensorFlow backend.\n"
          ],
          "name": "stderr"
        },
        {
          "output_type": "display_data",
          "data": {
            "text/html": [
              "<p style=\"color: red;\">\n",
              "The default version of TensorFlow in Colab will soon switch to TensorFlow 2.x.<br>\n",
              "We recommend you <a href=\"https://www.tensorflow.org/guide/migrate\" target=\"_blank\">upgrade</a> now \n",
              "or ensure your notebook will continue to use TensorFlow 1.x via the <code>%tensorflow_version 1.x</code> magic:\n",
              "<a href=\"https://colab.research.google.com/notebooks/tensorflow_version.ipynb\" target=\"_blank\">more info</a>.</p>\n"
            ],
            "text/plain": [
              "<IPython.core.display.HTML object>"
            ]
          },
          "metadata": {
            "tags": []
          }
        },
        {
          "output_type": "stream",
          "text": [
            "WARNING:tensorflow:From /usr/local/lib/python3.6/dist-packages/keras/backend/tensorflow_backend.py:66: The name tf.get_default_graph is deprecated. Please use tf.compat.v1.get_default_graph instead.\n",
            "\n",
            "WARNING:tensorflow:From /usr/local/lib/python3.6/dist-packages/keras/optimizers.py:793: The name tf.train.Optimizer is deprecated. Please use tf.compat.v1.train.Optimizer instead.\n",
            "\n",
            "WARNING:tensorflow:From /usr/local/lib/python3.6/dist-packages/keras/backend/tensorflow_backend.py:541: The name tf.placeholder is deprecated. Please use tf.compat.v1.placeholder instead.\n",
            "\n",
            "WARNING:tensorflow:From /usr/local/lib/python3.6/dist-packages/keras/backend/tensorflow_backend.py:4432: The name tf.random_uniform is deprecated. Please use tf.random.uniform instead.\n",
            "\n",
            "WARNING:tensorflow:From /usr/local/lib/python3.6/dist-packages/keras/backend/tensorflow_backend.py:3657: The name tf.log is deprecated. Please use tf.math.log instead.\n",
            "\n",
            "WARNING:tensorflow:From /usr/local/lib/python3.6/dist-packages/tensorflow_core/python/ops/nn_impl.py:183: where (from tensorflow.python.ops.array_ops) is deprecated and will be removed in a future version.\n",
            "Instructions for updating:\n",
            "Use tf.where in 2.0, which has the same broadcast rule as np.where\n",
            "WARNING:tensorflow:From /usr/local/lib/python3.6/dist-packages/keras/backend/tensorflow_backend.py:1033: The name tf.assign_add is deprecated. Please use tf.compat.v1.assign_add instead.\n",
            "\n",
            "WARNING:tensorflow:From /usr/local/lib/python3.6/dist-packages/keras/backend/tensorflow_backend.py:1020: The name tf.assign is deprecated. Please use tf.compat.v1.assign instead.\n",
            "\n",
            "WARNING:tensorflow:From /usr/local/lib/python3.6/dist-packages/keras/backend/tensorflow_backend.py:3005: The name tf.Session is deprecated. Please use tf.compat.v1.Session instead.\n",
            "\n",
            "Train on 314235 samples, validate on 134673 samples\n",
            "Epoch 1/30\n",
            "WARNING:tensorflow:From /usr/local/lib/python3.6/dist-packages/keras/backend/tensorflow_backend.py:190: The name tf.get_default_session is deprecated. Please use tf.compat.v1.get_default_session instead.\n",
            "\n",
            "WARNING:tensorflow:From /usr/local/lib/python3.6/dist-packages/keras/backend/tensorflow_backend.py:197: The name tf.ConfigProto is deprecated. Please use tf.compat.v1.ConfigProto instead.\n",
            "\n",
            "WARNING:tensorflow:From /usr/local/lib/python3.6/dist-packages/keras/backend/tensorflow_backend.py:207: The name tf.global_variables is deprecated. Please use tf.compat.v1.global_variables instead.\n",
            "\n",
            "WARNING:tensorflow:From /usr/local/lib/python3.6/dist-packages/keras/backend/tensorflow_backend.py:216: The name tf.is_variable_initialized is deprecated. Please use tf.compat.v1.is_variable_initialized instead.\n",
            "\n",
            "WARNING:tensorflow:From /usr/local/lib/python3.6/dist-packages/keras/backend/tensorflow_backend.py:223: The name tf.variables_initializer is deprecated. Please use tf.compat.v1.variables_initializer instead.\n",
            "\n",
            " - 11s - loss: 0.2273 - acc: 0.8859 - val_loss: 0.1912 - val_acc: 0.9113\n",
            "Epoch 2/30\n",
            " - 2s - loss: 0.1837 - acc: 0.9157 - val_loss: 0.1806 - val_acc: 0.9183\n",
            "Epoch 3/30\n",
            " - 2s - loss: 0.1784 - acc: 0.9192 - val_loss: 0.1756 - val_acc: 0.9211\n",
            "Epoch 4/30\n",
            " - 2s - loss: 0.1721 - acc: 0.9226 - val_loss: 0.1688 - val_acc: 0.9240\n",
            "Epoch 5/30\n",
            " - 2s - loss: 0.1674 - acc: 0.9247 - val_loss: 0.1656 - val_acc: 0.9256\n",
            "Epoch 6/30\n",
            " - 1s - loss: 0.1648 - acc: 0.9261 - val_loss: 0.1637 - val_acc: 0.9266\n",
            "Epoch 7/30\n",
            " - 2s - loss: 0.1628 - acc: 0.9267 - val_loss: 0.1619 - val_acc: 0.9269\n",
            "Epoch 8/30\n",
            " - 2s - loss: 0.1611 - acc: 0.9270 - val_loss: 0.1605 - val_acc: 0.9272\n",
            "Epoch 9/30\n",
            " - 2s - loss: 0.1600 - acc: 0.9273 - val_loss: 0.1596 - val_acc: 0.9275\n",
            "Epoch 10/30\n",
            " - 2s - loss: 0.1587 - acc: 0.9277 - val_loss: 0.1581 - val_acc: 0.9282\n",
            "Epoch 11/30\n",
            " - 2s - loss: 0.1578 - acc: 0.9280 - val_loss: 0.1578 - val_acc: 0.9284\n",
            "Epoch 12/30\n",
            " - 2s - loss: 0.1567 - acc: 0.9284 - val_loss: 0.1564 - val_acc: 0.9289\n",
            "Epoch 13/30\n",
            " - 2s - loss: 0.1560 - acc: 0.9287 - val_loss: 0.1558 - val_acc: 0.9293\n",
            "Epoch 14/30\n",
            " - 2s - loss: 0.1552 - acc: 0.9291 - val_loss: 0.1554 - val_acc: 0.9293\n",
            "Epoch 15/30\n",
            " - 2s - loss: 0.1545 - acc: 0.9295 - val_loss: 0.1544 - val_acc: 0.9299\n",
            "Epoch 16/30\n",
            " - 2s - loss: 0.1539 - acc: 0.9299 - val_loss: 0.1539 - val_acc: 0.9302\n",
            "Epoch 17/30\n",
            " - 2s - loss: 0.1534 - acc: 0.9302 - val_loss: 0.1540 - val_acc: 0.9302\n",
            "Epoch 18/30\n",
            " - 2s - loss: 0.1530 - acc: 0.9303 - val_loss: 0.1533 - val_acc: 0.9305\n",
            "Epoch 19/30\n",
            " - 2s - loss: 0.1527 - acc: 0.9304 - val_loss: 0.1529 - val_acc: 0.9302\n",
            "Epoch 20/30\n",
            " - 2s - loss: 0.1524 - acc: 0.9305 - val_loss: 0.1530 - val_acc: 0.9305\n",
            "Epoch 21/30\n",
            " - 2s - loss: 0.1521 - acc: 0.9307 - val_loss: 0.1524 - val_acc: 0.9309\n",
            "Epoch 22/30\n",
            " - 2s - loss: 0.1518 - acc: 0.9308 - val_loss: 0.1523 - val_acc: 0.9308\n",
            "Epoch 23/30\n",
            " - 2s - loss: 0.1516 - acc: 0.9309 - val_loss: 0.1516 - val_acc: 0.9312\n",
            "Epoch 24/30\n",
            " - 2s - loss: 0.1515 - acc: 0.9309 - val_loss: 0.1532 - val_acc: 0.9298\n",
            "Epoch 25/30\n",
            " - 2s - loss: 0.1512 - acc: 0.9312 - val_loss: 0.1530 - val_acc: 0.9302\n",
            "Epoch 26/30\n",
            " - 2s - loss: 0.1510 - acc: 0.9313 - val_loss: 0.1513 - val_acc: 0.9314\n",
            "Epoch 27/30\n",
            " - 2s - loss: 0.1508 - acc: 0.9314 - val_loss: 0.1507 - val_acc: 0.9316\n",
            "Epoch 28/30\n",
            " - 2s - loss: 0.1504 - acc: 0.9315 - val_loss: 0.1508 - val_acc: 0.9316\n",
            "Epoch 29/30\n",
            " - 2s - loss: 0.1503 - acc: 0.9315 - val_loss: 0.1508 - val_acc: 0.9317\n",
            "Epoch 30/30\n",
            " - 2s - loss: 0.1500 - acc: 0.9317 - val_loss: 0.1501 - val_acc: 0.9317\n"
          ],
          "name": "stdout"
        },
        {
          "output_type": "execute_result",
          "data": {
            "text/plain": [
              "<keras.callbacks.History at 0x7f4200d108d0>"
            ]
          },
          "metadata": {
            "tags": []
          },
          "execution_count": 9
        }
      ]
    },
    {
      "cell_type": "code",
      "metadata": {
        "id": "gdU76ub2-JjP",
        "colab": {
          "base_uri": "https://localhost:8080/",
          "height": 67
        },
        "outputId": "a0583391-5d51-4199-93ff-a9a0eba43bc2"
      },
      "source": [
        "from sklearn.metrics import classification_report\n",
        "score = model.evaluate(X_test, Y_test, verbose=0)\n",
        "print('Test loss:', score[0])\n",
        "print('Test accuracy:', score[1])\n",
        "print(score)"
      ],
      "execution_count": null,
      "outputs": [
        {
          "output_type": "stream",
          "text": [
            "Test loss: 0.14965767703097113\n",
            "Test accuracy: 0.9320851934031882\n",
            "[0.14965767703097113, 0.9320851934031882]\n"
          ],
          "name": "stdout"
        }
      ]
    },
    {
      "cell_type": "code",
      "metadata": {
        "id": "hOIO12fd_obR",
        "colab": {
          "base_uri": "https://localhost:8080/",
          "height": 34
        },
        "outputId": "3c96c6d2-ac62-4264-c654-9e69ab2fc63d"
      },
      "source": [
        "index = 5\n",
        "x1 = np.reshape(X_test[index],(1,5))\n",
        "x1"
      ],
      "execution_count": null,
      "outputs": [
        {
          "output_type": "execute_result",
          "data": {
            "text/plain": [
              "array([[-0.110962,  0.375916,  0.910034, -1.603053, -6.473282]])"
            ]
          },
          "metadata": {
            "tags": []
          },
          "execution_count": 11
        }
      ]
    },
    {
      "cell_type": "code",
      "metadata": {
        "id": "jOJWhW-k_6jR",
        "colab": {
          "base_uri": "https://localhost:8080/",
          "height": 67
        },
        "outputId": "fa000900-a1a1-4a4b-fa38-33ab9fa93324"
      },
      "source": [
        "model.predict(x1)"
      ],
      "execution_count": null,
      "outputs": [
        {
          "output_type": "execute_result",
          "data": {
            "text/plain": [
              "array([[1.01590045e-01, 7.71027757e-04, 1.21037126e-01, 3.44654745e-06,\n",
              "        7.71190286e-01, 3.07054893e-06, 5.29355137e-03, 1.11441172e-04]],\n",
              "      dtype=float32)"
            ]
          },
          "metadata": {
            "tags": []
          },
          "execution_count": 12
        }
      ]
    },
    {
      "cell_type": "code",
      "metadata": {
        "id": "GVm6NnMdABXS",
        "colab": {
          "base_uri": "https://localhost:8080/",
          "height": 34
        },
        "outputId": "6fe50fcf-d83c-417e-b186-226a5f12c905"
      },
      "source": [
        "Y_train[index]"
      ],
      "execution_count": null,
      "outputs": [
        {
          "output_type": "execute_result",
          "data": {
            "text/plain": [
              "array([1, 0, 0, 0, 0, 0, 0, 0])"
            ]
          },
          "metadata": {
            "tags": []
          },
          "execution_count": 13
        }
      ]
    },
    {
      "cell_type": "code",
      "metadata": {
        "id": "TSO2HJ34AXzi"
      },
      "source": [],
      "execution_count": null,
      "outputs": []
    }
  ]
}