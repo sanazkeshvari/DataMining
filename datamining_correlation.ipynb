{
  "cells": [
    {
      "cell_type": "code",
      "execution_count": null,
      "metadata": {
        "id": "owXuWFvwaUuC"
      },
      "outputs": [],
      "source": [
        "  import numpy as np\n",
        "  import pandas as pd\n",
        "  import csv\n",
        "  import matplotlib.pyplot as plt\n",
        "  from scipy.spatial import distance_matrix\n",
        "  from scipy.stats import skew\n",
        "  import pylab as p"
      ]
    },
    {
      "cell_type": "code",
      "execution_count": null,
      "metadata": {
        "id": "fzQbPUDcb55g",
        "colab": {
          "base_uri": "https://localhost:8080/"
        },
        "outputId": "e6e2d7cd-d4a9-421c-817b-ffa170c2ee8a"
      },
      "outputs": [
        {
          "output_type": "stream",
          "name": "stdout",
          "text": [
            "['duration' '178' '169' ... '76' '100' '90']\n"
          ]
        }
      ],
      "source": [
        "movieDataSet=pd.read_csv(\"/content/drive/MyDrive/movie_metadata.csv\")\n",
        "credit_DataFrame=pd.read_csv(\"/content/drive/MyDrive/tmdb_5000_credits.csv\")\n",
        "movies_DataFrame=pd.read_csv(\"/content/drive/MyDrive/tmdb_5000_movies.csv\")\n",
        "\n",
        "data = list(csv.reader(open(\"/content/drive/MyDrive/movie_metadata.csv\")))\n",
        "data = np.array(data)\n",
        "print(data[:,3])"
      ]
    },
    {
      "cell_type": "code",
      "source": [
        "from google.colab import drive\n",
        "drive.mount('/content/drive')"
      ],
      "metadata": {
        "colab": {
          "base_uri": "https://localhost:8080/"
        },
        "id": "e6WZnobtus8Y",
        "outputId": "efa00ccd-576f-4dcb-c246-bbcb24ac3783"
      },
      "execution_count": null,
      "outputs": [
        {
          "output_type": "stream",
          "name": "stdout",
          "text": [
            "Drive already mounted at /content/drive; to attempt to forcibly remount, call drive.mount(\"/content/drive\", force_remount=True).\n"
          ]
        }
      ]
    },
    {
      "cell_type": "code",
      "execution_count": null,
      "metadata": {
        "id": "TMRonQvdb56e",
        "colab": {
          "base_uri": "https://localhost:8080/",
          "height": 382
        },
        "outputId": "6dd7c1c1-fbb5-487f-8198-2a9f39406a89"
      },
      "outputs": [
        {
          "output_type": "execute_result",
          "data": {
            "text/html": [
              "<div>\n",
              "<style scoped>\n",
              "    .dataframe tbody tr th:only-of-type {\n",
              "        vertical-align: middle;\n",
              "    }\n",
              "\n",
              "    .dataframe tbody tr th {\n",
              "        vertical-align: top;\n",
              "    }\n",
              "\n",
              "    .dataframe thead th {\n",
              "        text-align: right;\n",
              "    }\n",
              "</style>\n",
              "<table border=\"1\" class=\"dataframe\">\n",
              "  <thead>\n",
              "    <tr style=\"text-align: right;\">\n",
              "      <th></th>\n",
              "      <th>color</th>\n",
              "      <th>director_name</th>\n",
              "      <th>num_critic_for_reviews</th>\n",
              "      <th>duration</th>\n",
              "      <th>director_facebook_likes</th>\n",
              "      <th>actor_3_facebook_likes</th>\n",
              "      <th>actor_2_name</th>\n",
              "      <th>actor_1_facebook_likes</th>\n",
              "      <th>gross</th>\n",
              "      <th>genres</th>\n",
              "      <th>actor_1_name</th>\n",
              "      <th>movie_title</th>\n",
              "      <th>num_voted_users</th>\n",
              "      <th>cast_total_facebook_likes</th>\n",
              "      <th>actor_3_name</th>\n",
              "      <th>facenumber_in_poster</th>\n",
              "      <th>plot_keywords</th>\n",
              "      <th>movie_imdb_link</th>\n",
              "      <th>num_user_for_reviews</th>\n",
              "      <th>language</th>\n",
              "      <th>country</th>\n",
              "      <th>content_rating</th>\n",
              "      <th>budget</th>\n",
              "      <th>title_year</th>\n",
              "      <th>actor_2_facebook_likes</th>\n",
              "      <th>imdb_score</th>\n",
              "      <th>aspect_ratio</th>\n",
              "      <th>movie_facebook_likes</th>\n",
              "    </tr>\n",
              "  </thead>\n",
              "  <tbody>\n",
              "    <tr>\n",
              "      <th>0</th>\n",
              "      <td>Color</td>\n",
              "      <td>James Cameron</td>\n",
              "      <td>723.0</td>\n",
              "      <td>178.0</td>\n",
              "      <td>0.0</td>\n",
              "      <td>855.0</td>\n",
              "      <td>Joel David Moore</td>\n",
              "      <td>1000.0</td>\n",
              "      <td>760505847.0</td>\n",
              "      <td>Action|Adventure|Fantasy|Sci-Fi</td>\n",
              "      <td>CCH Pounder</td>\n",
              "      <td>Avatar</td>\n",
              "      <td>886204</td>\n",
              "      <td>4834</td>\n",
              "      <td>Wes Studi</td>\n",
              "      <td>0.0</td>\n",
              "      <td>avatar|future|marine|native|paraplegic</td>\n",
              "      <td>http://www.imdb.com/title/tt0499549/?ref_=fn_t...</td>\n",
              "      <td>3054.0</td>\n",
              "      <td>English</td>\n",
              "      <td>USA</td>\n",
              "      <td>PG-13</td>\n",
              "      <td>237000000.0</td>\n",
              "      <td>2009.0</td>\n",
              "      <td>936.0</td>\n",
              "      <td>7.9</td>\n",
              "      <td>1.78</td>\n",
              "      <td>33000</td>\n",
              "    </tr>\n",
              "    <tr>\n",
              "      <th>1</th>\n",
              "      <td>Color</td>\n",
              "      <td>Gore Verbinski</td>\n",
              "      <td>302.0</td>\n",
              "      <td>169.0</td>\n",
              "      <td>563.0</td>\n",
              "      <td>1000.0</td>\n",
              "      <td>Orlando Bloom</td>\n",
              "      <td>40000.0</td>\n",
              "      <td>309404152.0</td>\n",
              "      <td>Action|Adventure|Fantasy</td>\n",
              "      <td>Johnny Depp</td>\n",
              "      <td>Pirates of the Caribbean: At World's End</td>\n",
              "      <td>471220</td>\n",
              "      <td>48350</td>\n",
              "      <td>Jack Davenport</td>\n",
              "      <td>0.0</td>\n",
              "      <td>goddess|marriage ceremony|marriage proposal|pi...</td>\n",
              "      <td>http://www.imdb.com/title/tt0449088/?ref_=fn_t...</td>\n",
              "      <td>1238.0</td>\n",
              "      <td>English</td>\n",
              "      <td>USA</td>\n",
              "      <td>PG-13</td>\n",
              "      <td>300000000.0</td>\n",
              "      <td>2007.0</td>\n",
              "      <td>5000.0</td>\n",
              "      <td>7.1</td>\n",
              "      <td>2.35</td>\n",
              "      <td>0</td>\n",
              "    </tr>\n",
              "    <tr>\n",
              "      <th>2</th>\n",
              "      <td>Color</td>\n",
              "      <td>Sam Mendes</td>\n",
              "      <td>602.0</td>\n",
              "      <td>148.0</td>\n",
              "      <td>0.0</td>\n",
              "      <td>161.0</td>\n",
              "      <td>Rory Kinnear</td>\n",
              "      <td>11000.0</td>\n",
              "      <td>200074175.0</td>\n",
              "      <td>Action|Adventure|Thriller</td>\n",
              "      <td>Christoph Waltz</td>\n",
              "      <td>Spectre</td>\n",
              "      <td>275868</td>\n",
              "      <td>11700</td>\n",
              "      <td>Stephanie Sigman</td>\n",
              "      <td>1.0</td>\n",
              "      <td>bomb|espionage|sequel|spy|terrorist</td>\n",
              "      <td>http://www.imdb.com/title/tt2379713/?ref_=fn_t...</td>\n",
              "      <td>994.0</td>\n",
              "      <td>English</td>\n",
              "      <td>UK</td>\n",
              "      <td>PG-13</td>\n",
              "      <td>245000000.0</td>\n",
              "      <td>2015.0</td>\n",
              "      <td>393.0</td>\n",
              "      <td>6.8</td>\n",
              "      <td>2.35</td>\n",
              "      <td>85000</td>\n",
              "    </tr>\n",
              "    <tr>\n",
              "      <th>3</th>\n",
              "      <td>Color</td>\n",
              "      <td>Christopher Nolan</td>\n",
              "      <td>813.0</td>\n",
              "      <td>164.0</td>\n",
              "      <td>22000.0</td>\n",
              "      <td>23000.0</td>\n",
              "      <td>Christian Bale</td>\n",
              "      <td>27000.0</td>\n",
              "      <td>448130642.0</td>\n",
              "      <td>Action|Thriller</td>\n",
              "      <td>Tom Hardy</td>\n",
              "      <td>The Dark Knight Rises</td>\n",
              "      <td>1144337</td>\n",
              "      <td>106759</td>\n",
              "      <td>Joseph Gordon-Levitt</td>\n",
              "      <td>0.0</td>\n",
              "      <td>deception|imprisonment|lawlessness|police offi...</td>\n",
              "      <td>http://www.imdb.com/title/tt1345836/?ref_=fn_t...</td>\n",
              "      <td>2701.0</td>\n",
              "      <td>English</td>\n",
              "      <td>USA</td>\n",
              "      <td>PG-13</td>\n",
              "      <td>250000000.0</td>\n",
              "      <td>2012.0</td>\n",
              "      <td>23000.0</td>\n",
              "      <td>8.5</td>\n",
              "      <td>2.35</td>\n",
              "      <td>164000</td>\n",
              "    </tr>\n",
              "    <tr>\n",
              "      <th>4</th>\n",
              "      <td>NaN</td>\n",
              "      <td>Doug Walker</td>\n",
              "      <td>NaN</td>\n",
              "      <td>NaN</td>\n",
              "      <td>131.0</td>\n",
              "      <td>NaN</td>\n",
              "      <td>Rob Walker</td>\n",
              "      <td>131.0</td>\n",
              "      <td>NaN</td>\n",
              "      <td>Documentary</td>\n",
              "      <td>Doug Walker</td>\n",
              "      <td>Star Wars: Episode VII - The Force Awakens    ...</td>\n",
              "      <td>8</td>\n",
              "      <td>143</td>\n",
              "      <td>NaN</td>\n",
              "      <td>0.0</td>\n",
              "      <td>NaN</td>\n",
              "      <td>http://www.imdb.com/title/tt5289954/?ref_=fn_t...</td>\n",
              "      <td>NaN</td>\n",
              "      <td>NaN</td>\n",
              "      <td>NaN</td>\n",
              "      <td>NaN</td>\n",
              "      <td>NaN</td>\n",
              "      <td>NaN</td>\n",
              "      <td>12.0</td>\n",
              "      <td>7.1</td>\n",
              "      <td>NaN</td>\n",
              "      <td>0</td>\n",
              "    </tr>\n",
              "  </tbody>\n",
              "</table>\n",
              "</div>"
            ],
            "text/plain": [
              "   color      director_name  ...  aspect_ratio  movie_facebook_likes\n",
              "0  Color      James Cameron  ...          1.78                 33000\n",
              "1  Color     Gore Verbinski  ...          2.35                     0\n",
              "2  Color         Sam Mendes  ...          2.35                 85000\n",
              "3  Color  Christopher Nolan  ...          2.35                164000\n",
              "4    NaN        Doug Walker  ...           NaN                     0\n",
              "\n",
              "[5 rows x 28 columns]"
            ]
          },
          "metadata": {},
          "execution_count": 8
        }
      ],
      "source": [
        "movieDataSet.head()"
      ]
    },
    {
      "cell_type": "code",
      "source": [
        "movieDataSet[\"duration\"][0]"
      ],
      "metadata": {
        "colab": {
          "base_uri": "https://localhost:8080/"
        },
        "id": "FK7ZrBQtC39a",
        "outputId": "c0a39ec1-a4d5-49c6-91e4-db373f4d77d5"
      },
      "execution_count": null,
      "outputs": [
        {
          "output_type": "execute_result",
          "data": {
            "text/plain": [
              "178.0"
            ]
          },
          "metadata": {},
          "execution_count": 9
        }
      ]
    },
    {
      "cell_type": "code",
      "source": [
        "movieDataSet.duration\n",
        "type(movieDataSet)"
      ],
      "metadata": {
        "colab": {
          "base_uri": "https://localhost:8080/"
        },
        "id": "qbyx2rPSDWo9",
        "outputId": "4d423732-a857-42ad-ef14-be2d99ad4d05"
      },
      "execution_count": null,
      "outputs": [
        {
          "output_type": "execute_result",
          "data": {
            "text/plain": [
              "pandas.core.frame.DataFrame"
            ]
          },
          "metadata": {},
          "execution_count": 10
        }
      ]
    },
    {
      "cell_type": "markdown",
      "source": [
        "# **Correlation**"
      ],
      "metadata": {
        "id": "YP62T89IjOpt"
      }
    },
    {
      "cell_type": "code",
      "source": [
        "# movie_metadata\n",
        "# Threshold for removing correlated variables\n",
        "threshold = 0.7\n",
        "\n",
        "# Absolute value correlation matrix\n",
        "corr_matrix = movieDataSet.corr().abs()\n",
        "corr_matrix"
      ],
      "metadata": {
        "colab": {
          "base_uri": "https://localhost:8080/",
          "height": 571
        },
        "id": "pqOFeRiOJGpZ",
        "outputId": "59f7ebc9-c60b-4825-97d3-c3c26026df4c"
      },
      "execution_count": null,
      "outputs": [
        {
          "output_type": "execute_result",
          "data": {
            "text/html": [
              "<div>\n",
              "<style scoped>\n",
              "    .dataframe tbody tr th:only-of-type {\n",
              "        vertical-align: middle;\n",
              "    }\n",
              "\n",
              "    .dataframe tbody tr th {\n",
              "        vertical-align: top;\n",
              "    }\n",
              "\n",
              "    .dataframe thead th {\n",
              "        text-align: right;\n",
              "    }\n",
              "</style>\n",
              "<table border=\"1\" class=\"dataframe\">\n",
              "  <thead>\n",
              "    <tr style=\"text-align: right;\">\n",
              "      <th></th>\n",
              "      <th>num_critic_for_reviews</th>\n",
              "      <th>duration</th>\n",
              "      <th>director_facebook_likes</th>\n",
              "      <th>actor_3_facebook_likes</th>\n",
              "      <th>actor_1_facebook_likes</th>\n",
              "      <th>gross</th>\n",
              "      <th>num_voted_users</th>\n",
              "      <th>cast_total_facebook_likes</th>\n",
              "      <th>facenumber_in_poster</th>\n",
              "      <th>num_user_for_reviews</th>\n",
              "      <th>budget</th>\n",
              "      <th>title_year</th>\n",
              "      <th>actor_2_facebook_likes</th>\n",
              "      <th>imdb_score</th>\n",
              "      <th>aspect_ratio</th>\n",
              "      <th>movie_facebook_likes</th>\n",
              "    </tr>\n",
              "  </thead>\n",
              "  <tbody>\n",
              "    <tr>\n",
              "      <th>num_critic_for_reviews</th>\n",
              "      <td>1.000000</td>\n",
              "      <td>0.258486</td>\n",
              "      <td>0.180674</td>\n",
              "      <td>0.271646</td>\n",
              "      <td>0.190016</td>\n",
              "      <td>0.480601</td>\n",
              "      <td>0.624943</td>\n",
              "      <td>0.263203</td>\n",
              "      <td>0.033897</td>\n",
              "      <td>0.609387</td>\n",
              "      <td>0.119994</td>\n",
              "      <td>0.275707</td>\n",
              "      <td>0.282306</td>\n",
              "      <td>0.305303</td>\n",
              "      <td>0.049786</td>\n",
              "      <td>0.683176</td>\n",
              "    </tr>\n",
              "    <tr>\n",
              "      <th>duration</th>\n",
              "      <td>0.258486</td>\n",
              "      <td>1.000000</td>\n",
              "      <td>0.173296</td>\n",
              "      <td>0.123558</td>\n",
              "      <td>0.088449</td>\n",
              "      <td>0.250298</td>\n",
              "      <td>0.314765</td>\n",
              "      <td>0.123074</td>\n",
              "      <td>0.013469</td>\n",
              "      <td>0.328403</td>\n",
              "      <td>0.074276</td>\n",
              "      <td>0.135038</td>\n",
              "      <td>0.131673</td>\n",
              "      <td>0.261662</td>\n",
              "      <td>0.090071</td>\n",
              "      <td>0.196605</td>\n",
              "    </tr>\n",
              "    <tr>\n",
              "      <th>director_facebook_likes</th>\n",
              "      <td>0.180674</td>\n",
              "      <td>0.173296</td>\n",
              "      <td>1.000000</td>\n",
              "      <td>0.120199</td>\n",
              "      <td>0.090723</td>\n",
              "      <td>0.144945</td>\n",
              "      <td>0.297057</td>\n",
              "      <td>0.119549</td>\n",
              "      <td>0.041268</td>\n",
              "      <td>0.221890</td>\n",
              "      <td>0.021090</td>\n",
              "      <td>0.063820</td>\n",
              "      <td>0.119601</td>\n",
              "      <td>0.170802</td>\n",
              "      <td>0.001642</td>\n",
              "      <td>0.162048</td>\n",
              "    </tr>\n",
              "    <tr>\n",
              "      <th>actor_3_facebook_likes</th>\n",
              "      <td>0.271646</td>\n",
              "      <td>0.123558</td>\n",
              "      <td>0.120199</td>\n",
              "      <td>1.000000</td>\n",
              "      <td>0.249927</td>\n",
              "      <td>0.308026</td>\n",
              "      <td>0.287239</td>\n",
              "      <td>0.473920</td>\n",
              "      <td>0.099368</td>\n",
              "      <td>0.230189</td>\n",
              "      <td>0.047451</td>\n",
              "      <td>0.096137</td>\n",
              "      <td>0.559662</td>\n",
              "      <td>0.052633</td>\n",
              "      <td>0.003366</td>\n",
              "      <td>0.278844</td>\n",
              "    </tr>\n",
              "    <tr>\n",
              "      <th>actor_1_facebook_likes</th>\n",
              "      <td>0.190016</td>\n",
              "      <td>0.088449</td>\n",
              "      <td>0.090723</td>\n",
              "      <td>0.249927</td>\n",
              "      <td>1.000000</td>\n",
              "      <td>0.154468</td>\n",
              "      <td>0.192804</td>\n",
              "      <td>0.951661</td>\n",
              "      <td>0.072257</td>\n",
              "      <td>0.145461</td>\n",
              "      <td>0.022639</td>\n",
              "      <td>0.086873</td>\n",
              "      <td>0.390487</td>\n",
              "      <td>0.076099</td>\n",
              "      <td>0.020049</td>\n",
              "      <td>0.135348</td>\n",
              "    </tr>\n",
              "    <tr>\n",
              "      <th>gross</th>\n",
              "      <td>0.480601</td>\n",
              "      <td>0.250298</td>\n",
              "      <td>0.144945</td>\n",
              "      <td>0.308026</td>\n",
              "      <td>0.154468</td>\n",
              "      <td>1.000000</td>\n",
              "      <td>0.637271</td>\n",
              "      <td>0.247400</td>\n",
              "      <td>0.027755</td>\n",
              "      <td>0.559958</td>\n",
              "      <td>0.102179</td>\n",
              "      <td>0.030886</td>\n",
              "      <td>0.262768</td>\n",
              "      <td>0.198021</td>\n",
              "      <td>0.069346</td>\n",
              "      <td>0.378082</td>\n",
              "    </tr>\n",
              "    <tr>\n",
              "      <th>num_voted_users</th>\n",
              "      <td>0.624943</td>\n",
              "      <td>0.314765</td>\n",
              "      <td>0.297057</td>\n",
              "      <td>0.287239</td>\n",
              "      <td>0.192804</td>\n",
              "      <td>0.637271</td>\n",
              "      <td>1.000000</td>\n",
              "      <td>0.265911</td>\n",
              "      <td>0.026998</td>\n",
              "      <td>0.798406</td>\n",
              "      <td>0.079621</td>\n",
              "      <td>0.007397</td>\n",
              "      <td>0.270790</td>\n",
              "      <td>0.410965</td>\n",
              "      <td>0.014761</td>\n",
              "      <td>0.537924</td>\n",
              "    </tr>\n",
              "    <tr>\n",
              "      <th>cast_total_facebook_likes</th>\n",
              "      <td>0.263203</td>\n",
              "      <td>0.123074</td>\n",
              "      <td>0.119549</td>\n",
              "      <td>0.473920</td>\n",
              "      <td>0.951661</td>\n",
              "      <td>0.247400</td>\n",
              "      <td>0.265911</td>\n",
              "      <td>1.000000</td>\n",
              "      <td>0.091475</td>\n",
              "      <td>0.206923</td>\n",
              "      <td>0.036557</td>\n",
              "      <td>0.109971</td>\n",
              "      <td>0.628404</td>\n",
              "      <td>0.085787</td>\n",
              "      <td>0.017885</td>\n",
              "      <td>0.209786</td>\n",
              "    </tr>\n",
              "    <tr>\n",
              "      <th>facenumber_in_poster</th>\n",
              "      <td>0.033897</td>\n",
              "      <td>0.013469</td>\n",
              "      <td>0.041268</td>\n",
              "      <td>0.099368</td>\n",
              "      <td>0.072257</td>\n",
              "      <td>0.027755</td>\n",
              "      <td>0.026998</td>\n",
              "      <td>0.091475</td>\n",
              "      <td>1.000000</td>\n",
              "      <td>0.069018</td>\n",
              "      <td>0.019559</td>\n",
              "      <td>0.061504</td>\n",
              "      <td>0.071228</td>\n",
              "      <td>0.062958</td>\n",
              "      <td>0.013713</td>\n",
              "      <td>0.008918</td>\n",
              "    </tr>\n",
              "    <tr>\n",
              "      <th>num_user_for_reviews</th>\n",
              "      <td>0.609387</td>\n",
              "      <td>0.328403</td>\n",
              "      <td>0.221890</td>\n",
              "      <td>0.230189</td>\n",
              "      <td>0.145461</td>\n",
              "      <td>0.559958</td>\n",
              "      <td>0.798406</td>\n",
              "      <td>0.206923</td>\n",
              "      <td>0.069018</td>\n",
              "      <td>1.000000</td>\n",
              "      <td>0.084292</td>\n",
              "      <td>0.003147</td>\n",
              "      <td>0.219496</td>\n",
              "      <td>0.292475</td>\n",
              "      <td>0.024719</td>\n",
              "      <td>0.400594</td>\n",
              "    </tr>\n",
              "    <tr>\n",
              "      <th>budget</th>\n",
              "      <td>0.119994</td>\n",
              "      <td>0.074276</td>\n",
              "      <td>0.021090</td>\n",
              "      <td>0.047451</td>\n",
              "      <td>0.022639</td>\n",
              "      <td>0.102179</td>\n",
              "      <td>0.079621</td>\n",
              "      <td>0.036557</td>\n",
              "      <td>0.019559</td>\n",
              "      <td>0.084292</td>\n",
              "      <td>1.000000</td>\n",
              "      <td>0.045726</td>\n",
              "      <td>0.044236</td>\n",
              "      <td>0.030688</td>\n",
              "      <td>0.006598</td>\n",
              "      <td>0.062039</td>\n",
              "    </tr>\n",
              "    <tr>\n",
              "      <th>title_year</th>\n",
              "      <td>0.275707</td>\n",
              "      <td>0.135038</td>\n",
              "      <td>0.063820</td>\n",
              "      <td>0.096137</td>\n",
              "      <td>0.086873</td>\n",
              "      <td>0.030886</td>\n",
              "      <td>0.007397</td>\n",
              "      <td>0.109971</td>\n",
              "      <td>0.061504</td>\n",
              "      <td>0.003147</td>\n",
              "      <td>0.045726</td>\n",
              "      <td>1.000000</td>\n",
              "      <td>0.101890</td>\n",
              "      <td>0.209167</td>\n",
              "      <td>0.159973</td>\n",
              "      <td>0.218678</td>\n",
              "    </tr>\n",
              "    <tr>\n",
              "      <th>actor_2_facebook_likes</th>\n",
              "      <td>0.282306</td>\n",
              "      <td>0.131673</td>\n",
              "      <td>0.119601</td>\n",
              "      <td>0.559662</td>\n",
              "      <td>0.390487</td>\n",
              "      <td>0.262768</td>\n",
              "      <td>0.270790</td>\n",
              "      <td>0.628404</td>\n",
              "      <td>0.071228</td>\n",
              "      <td>0.219496</td>\n",
              "      <td>0.044236</td>\n",
              "      <td>0.101890</td>\n",
              "      <td>1.000000</td>\n",
              "      <td>0.083808</td>\n",
              "      <td>0.007783</td>\n",
              "      <td>0.243487</td>\n",
              "    </tr>\n",
              "    <tr>\n",
              "      <th>imdb_score</th>\n",
              "      <td>0.305303</td>\n",
              "      <td>0.261662</td>\n",
              "      <td>0.170802</td>\n",
              "      <td>0.052633</td>\n",
              "      <td>0.076099</td>\n",
              "      <td>0.198021</td>\n",
              "      <td>0.410965</td>\n",
              "      <td>0.085787</td>\n",
              "      <td>0.062958</td>\n",
              "      <td>0.292475</td>\n",
              "      <td>0.030688</td>\n",
              "      <td>0.209167</td>\n",
              "      <td>0.083808</td>\n",
              "      <td>1.000000</td>\n",
              "      <td>0.059445</td>\n",
              "      <td>0.247049</td>\n",
              "    </tr>\n",
              "    <tr>\n",
              "      <th>aspect_ratio</th>\n",
              "      <td>0.049786</td>\n",
              "      <td>0.090071</td>\n",
              "      <td>0.001642</td>\n",
              "      <td>0.003366</td>\n",
              "      <td>0.020049</td>\n",
              "      <td>0.069346</td>\n",
              "      <td>0.014761</td>\n",
              "      <td>0.017885</td>\n",
              "      <td>0.013713</td>\n",
              "      <td>0.024719</td>\n",
              "      <td>0.006598</td>\n",
              "      <td>0.159973</td>\n",
              "      <td>0.007783</td>\n",
              "      <td>0.059445</td>\n",
              "      <td>1.000000</td>\n",
              "      <td>0.025737</td>\n",
              "    </tr>\n",
              "    <tr>\n",
              "      <th>movie_facebook_likes</th>\n",
              "      <td>0.683176</td>\n",
              "      <td>0.196605</td>\n",
              "      <td>0.162048</td>\n",
              "      <td>0.278844</td>\n",
              "      <td>0.135348</td>\n",
              "      <td>0.378082</td>\n",
              "      <td>0.537924</td>\n",
              "      <td>0.209786</td>\n",
              "      <td>0.008918</td>\n",
              "      <td>0.400594</td>\n",
              "      <td>0.062039</td>\n",
              "      <td>0.218678</td>\n",
              "      <td>0.243487</td>\n",
              "      <td>0.247049</td>\n",
              "      <td>0.025737</td>\n",
              "      <td>1.000000</td>\n",
              "    </tr>\n",
              "  </tbody>\n",
              "</table>\n",
              "</div>"
            ],
            "text/plain": [
              "                           num_critic_for_reviews  ...  movie_facebook_likes\n",
              "num_critic_for_reviews                   1.000000  ...              0.683176\n",
              "duration                                 0.258486  ...              0.196605\n",
              "director_facebook_likes                  0.180674  ...              0.162048\n",
              "actor_3_facebook_likes                   0.271646  ...              0.278844\n",
              "actor_1_facebook_likes                   0.190016  ...              0.135348\n",
              "gross                                    0.480601  ...              0.378082\n",
              "num_voted_users                          0.624943  ...              0.537924\n",
              "cast_total_facebook_likes                0.263203  ...              0.209786\n",
              "facenumber_in_poster                     0.033897  ...              0.008918\n",
              "num_user_for_reviews                     0.609387  ...              0.400594\n",
              "budget                                   0.119994  ...              0.062039\n",
              "title_year                               0.275707  ...              0.218678\n",
              "actor_2_facebook_likes                   0.282306  ...              0.243487\n",
              "imdb_score                               0.305303  ...              0.247049\n",
              "aspect_ratio                             0.049786  ...              0.025737\n",
              "movie_facebook_likes                     0.683176  ...              1.000000\n",
              "\n",
              "[16 rows x 16 columns]"
            ]
          },
          "metadata": {},
          "execution_count": 11
        }
      ]
    },
    {
      "cell_type": "code",
      "source": [
        "corr_matrix_credit = credit_DataFrame.corr().abs()\n",
        "corr_matrix_credit"
      ],
      "metadata": {
        "colab": {
          "base_uri": "https://localhost:8080/",
          "height": 81
        },
        "id": "-rk0_tv_jmLr",
        "outputId": "9c6060d4-d3d3-4d86-8553-0f2e2693cd2e"
      },
      "execution_count": null,
      "outputs": [
        {
          "output_type": "execute_result",
          "data": {
            "text/html": [
              "<div>\n",
              "<style scoped>\n",
              "    .dataframe tbody tr th:only-of-type {\n",
              "        vertical-align: middle;\n",
              "    }\n",
              "\n",
              "    .dataframe tbody tr th {\n",
              "        vertical-align: top;\n",
              "    }\n",
              "\n",
              "    .dataframe thead th {\n",
              "        text-align: right;\n",
              "    }\n",
              "</style>\n",
              "<table border=\"1\" class=\"dataframe\">\n",
              "  <thead>\n",
              "    <tr style=\"text-align: right;\">\n",
              "      <th></th>\n",
              "      <th>movie_id</th>\n",
              "    </tr>\n",
              "  </thead>\n",
              "  <tbody>\n",
              "    <tr>\n",
              "      <th>movie_id</th>\n",
              "      <td>1.0</td>\n",
              "    </tr>\n",
              "  </tbody>\n",
              "</table>\n",
              "</div>"
            ],
            "text/plain": [
              "          movie_id\n",
              "movie_id       1.0"
            ]
          },
          "metadata": {},
          "execution_count": 12
        }
      ]
    },
    {
      "cell_type": "code",
      "source": [
        "corr_matrix_movies = movies_DataFrame.corr().abs()\n",
        "corr_matrix_movies"
      ],
      "metadata": {
        "id": "UgiMyiXlkrIJ",
        "colab": {
          "base_uri": "https://localhost:8080/",
          "height": 269
        },
        "outputId": "f8a94e99-2822-420f-bc6a-9512c389be34"
      },
      "execution_count": null,
      "outputs": [
        {
          "output_type": "execute_result",
          "data": {
            "text/html": [
              "<div>\n",
              "<style scoped>\n",
              "    .dataframe tbody tr th:only-of-type {\n",
              "        vertical-align: middle;\n",
              "    }\n",
              "\n",
              "    .dataframe tbody tr th {\n",
              "        vertical-align: top;\n",
              "    }\n",
              "\n",
              "    .dataframe thead th {\n",
              "        text-align: right;\n",
              "    }\n",
              "</style>\n",
              "<table border=\"1\" class=\"dataframe\">\n",
              "  <thead>\n",
              "    <tr style=\"text-align: right;\">\n",
              "      <th></th>\n",
              "      <th>budget</th>\n",
              "      <th>id</th>\n",
              "      <th>popularity</th>\n",
              "      <th>revenue</th>\n",
              "      <th>runtime</th>\n",
              "      <th>vote_average</th>\n",
              "      <th>vote_count</th>\n",
              "    </tr>\n",
              "  </thead>\n",
              "  <tbody>\n",
              "    <tr>\n",
              "      <th>budget</th>\n",
              "      <td>1.000000</td>\n",
              "      <td>0.089377</td>\n",
              "      <td>0.505414</td>\n",
              "      <td>0.730823</td>\n",
              "      <td>0.269851</td>\n",
              "      <td>0.093146</td>\n",
              "      <td>0.593180</td>\n",
              "    </tr>\n",
              "    <tr>\n",
              "      <th>id</th>\n",
              "      <td>0.089377</td>\n",
              "      <td>1.000000</td>\n",
              "      <td>0.031202</td>\n",
              "      <td>0.050425</td>\n",
              "      <td>0.153536</td>\n",
              "      <td>0.270595</td>\n",
              "      <td>0.004128</td>\n",
              "    </tr>\n",
              "    <tr>\n",
              "      <th>popularity</th>\n",
              "      <td>0.505414</td>\n",
              "      <td>0.031202</td>\n",
              "      <td>1.000000</td>\n",
              "      <td>0.644724</td>\n",
              "      <td>0.225502</td>\n",
              "      <td>0.273952</td>\n",
              "      <td>0.778130</td>\n",
              "    </tr>\n",
              "    <tr>\n",
              "      <th>revenue</th>\n",
              "      <td>0.730823</td>\n",
              "      <td>0.050425</td>\n",
              "      <td>0.644724</td>\n",
              "      <td>1.000000</td>\n",
              "      <td>0.251093</td>\n",
              "      <td>0.197150</td>\n",
              "      <td>0.781487</td>\n",
              "    </tr>\n",
              "    <tr>\n",
              "      <th>runtime</th>\n",
              "      <td>0.269851</td>\n",
              "      <td>0.153536</td>\n",
              "      <td>0.225502</td>\n",
              "      <td>0.251093</td>\n",
              "      <td>1.000000</td>\n",
              "      <td>0.375046</td>\n",
              "      <td>0.271944</td>\n",
              "    </tr>\n",
              "    <tr>\n",
              "      <th>vote_average</th>\n",
              "      <td>0.093146</td>\n",
              "      <td>0.270595</td>\n",
              "      <td>0.273952</td>\n",
              "      <td>0.197150</td>\n",
              "      <td>0.375046</td>\n",
              "      <td>1.000000</td>\n",
              "      <td>0.312997</td>\n",
              "    </tr>\n",
              "    <tr>\n",
              "      <th>vote_count</th>\n",
              "      <td>0.593180</td>\n",
              "      <td>0.004128</td>\n",
              "      <td>0.778130</td>\n",
              "      <td>0.781487</td>\n",
              "      <td>0.271944</td>\n",
              "      <td>0.312997</td>\n",
              "      <td>1.000000</td>\n",
              "    </tr>\n",
              "  </tbody>\n",
              "</table>\n",
              "</div>"
            ],
            "text/plain": [
              "                budget        id  ...  vote_average  vote_count\n",
              "budget        1.000000  0.089377  ...      0.093146    0.593180\n",
              "id            0.089377  1.000000  ...      0.270595    0.004128\n",
              "popularity    0.505414  0.031202  ...      0.273952    0.778130\n",
              "revenue       0.730823  0.050425  ...      0.197150    0.781487\n",
              "runtime       0.269851  0.153536  ...      0.375046    0.271944\n",
              "vote_average  0.093146  0.270595  ...      1.000000    0.312997\n",
              "vote_count    0.593180  0.004128  ...      0.312997    1.000000\n",
              "\n",
              "[7 rows x 7 columns]"
            ]
          },
          "metadata": {},
          "execution_count": 13
        }
      ]
    },
    {
      "cell_type": "code",
      "source": [
        "import seaborn as sns\n",
        "plt.figure(figsize=(30,30))\n",
        "sns.heatmap(corr_matrix , cmap='coolwarm')"
      ],
      "metadata": {
        "id": "K6Fwb_cSLaEg",
        "colab": {
          "base_uri": "https://localhost:8080/",
          "height": 1000
        },
        "outputId": "8179dc86-b9c6-4fcc-963a-e333455e209c"
      },
      "execution_count": null,
      "outputs": [
        {
          "output_type": "execute_result",
          "data": {
            "text/plain": [
              "<matplotlib.axes._subplots.AxesSubplot at 0x7f2f361cad10>"
            ]
          },
          "metadata": {},
          "execution_count": 14
        },
        {
          "output_type": "display_data",
          "data": {
            "image/png": "[encoded data removed]",
            "text/plain": [
              "<Figure size 2160x2160 with 2 Axes>"
            ]
          },
          "metadata": {
            "needs_background": "light"
          }
        }
      ]
    },
    {
      "cell_type": "code",
      "source": [
        "plt.figure(figsize=(30,30))\n",
        "sns.heatmap(corr_matrix_credit , cmap='coolwarm')"
      ],
      "metadata": {
        "id": "w4KVVHv0lNdf",
        "colab": {
          "base_uri": "https://localhost:8080/",
          "height": 1000
        },
        "outputId": "833dfbc7-ef73-4d4a-84c8-38dccb97ebe9"
      },
      "execution_count": null,
      "outputs": [
        {
          "output_type": "execute_result",
          "data": {
            "text/plain": [
              "<matplotlib.axes._subplots.AxesSubplot at 0x7f2f3597d790>"
            ]
          },
          "metadata": {},
          "execution_count": 15
        },
        {
          "output_type": "display_data",
          "data": {
            "image/png": "[encoded data removed]",
            "text/plain": [
              "<Figure size 2160x2160 with 2 Axes>"
            ]
          },
          "metadata": {
            "needs_background": "light"
          }
        }
      ]
    },
    {
      "cell_type": "code",
      "source": [
        "plt.figure(figsize=(30,30))\n",
        "sns.heatmap(corr_matrix_movies , cmap='coolwarm')"
      ],
      "metadata": {
        "id": "BjOcNAf0lXOq",
        "colab": {
          "base_uri": "https://localhost:8080/",
          "height": 1000
        },
        "outputId": "b6eaf810-e3d6-4e72-f55f-45e7e6b1bacb"
      },
      "execution_count": null,
      "outputs": [
        {
          "output_type": "execute_result",
          "data": {
            "text/plain": [
              "<matplotlib.axes._subplots.AxesSubplot at 0x7f2f2b360390>"
            ]
          },
          "metadata": {},
          "execution_count": 16
        },
        {
          "output_type": "display_data",
          "data": {
            "image/png": "[encoded data removed]",
            "text/plain": [
              "<Figure size 2160x2160 with 2 Axes>"
            ]
          },
          "metadata": {
            "needs_background": "light"
          }
        }
      ]
    },
    {
      "cell_type": "markdown",
      "source": [
        "Scatter"
      ],
      "metadata": {
        "id": "z0QaR9snNu_m"
      }
    },
    {
      "cell_type": "code",
      "source": [
        "for row in corr_matrix.columns:\n",
        "  print(f\"{row}:\")\n",
        "  for col in corr_matrix.columns:\n",
        "    if corr_matrix[f\"{row}\"][f\"{col}\"] >= 0.70 and corr_matrix[f\"{row}\"][f\"{col}\"]!= 1.0:\n",
        "      # x_scatter = dissimilarity_matrix[f\"{row}\"]\n",
        "      # y_scatter = dissimilarity_matrix[f\"{col}\"]\n",
        "      sns.lmplot(x=f\"{row}\",y=f\"{col}\",data=corr_matrix)\n",
        "      plt.show()"
      ],
      "metadata": {
        "colab": {
          "base_uri": "https://localhost:8080/",
          "height": 1000
        },
        "id": "bA1Zw_g6NyVS",
        "outputId": "4c4e9f32-0207-4fd6-e641-f7028c20661b"
      },
      "execution_count": null,
      "outputs": [
        {
          "output_type": "stream",
          "name": "stdout",
          "text": [
            "num_critic_for_reviews:\n",
            "duration:\n",
            "director_facebook_likes:\n",
            "actor_3_facebook_likes:\n",
            "actor_1_facebook_likes:\n"
          ]
        },
        {
          "output_type": "display_data",
          "data": {
            "image/png": "[encoded data removed]",
            "text/plain": [
              "<Figure size 360x360 with 1 Axes>"
            ]
          },
          "metadata": {
            "needs_background": "light"
          }
        },
        {
          "output_type": "stream",
          "name": "stdout",
          "text": [
            "gross:\n",
            "num_voted_users:\n"
          ]
        },
        {
          "output_type": "display_data",
          "data": {
            "image/png": "[encoded data removed]",
            "text/plain": [
              "<Figure size 360x360 with 1 Axes>"
            ]
          },
          "metadata": {
            "needs_background": "light"
          }
        },
        {
          "output_type": "stream",
          "name": "stdout",
          "text": [
            "cast_total_facebook_likes:\n"
          ]
        },
        {
          "output_type": "display_data",
          "data": {
            "image/png": "[encoded data removed]",
            "text/plain": [
              "<Figure size 360x360 with 1 Axes>"
            ]
          },
          "metadata": {
            "needs_background": "light"
          }
        },
        {
          "output_type": "stream",
          "name": "stdout",
          "text": [
            "facenumber_in_poster:\n",
            "num_user_for_reviews:\n"
          ]
        },
        {
          "output_type": "display_data",
          "data": {
            "image/png": "[encoded data removed]",
            "text/plain": [
              "<Figure size 360x360 with 1 Axes>"
            ]
          },
          "metadata": {
            "needs_background": "light"
          }
        },
        {
          "output_type": "stream",
          "name": "stdout",
          "text": [
            "budget:\n",
            "title_year:\n",
            "actor_2_facebook_likes:\n",
            "imdb_score:\n",
            "aspect_ratio:\n",
            "movie_facebook_likes:\n"
          ]
        }
      ]
    },
    {
      "cell_type": "code",
      "source": [
        "for row in corr_matrix_credit.columns:\n",
        "  print(f\"{row}:\")\n",
        "  for col in corr_matrix_credit.columns:\n",
        "    if corr_matrix_credit[f\"{row}\"][f\"{col}\"] >= 0.70 and corr_matrix_credit[f\"{row}\"][f\"{col}\"]!= 1.0:\n",
        "      # x_scatter = dissimilarity_matrix[f\"{row}\"]\n",
        "      # y_scatter = dissimilarity_matrix[f\"{col}\"]\n",
        "      sns.lmplot(x=f\"{row}\",y=f\"{col}\",data=corr_matrix_credit)\n",
        "      plt.show()"
      ],
      "metadata": {
        "colab": {
          "base_uri": "https://localhost:8080/"
        },
        "id": "pN9MI326lzrh",
        "outputId": "7c5e9400-1300-488f-99e1-9de0fd545f00"
      },
      "execution_count": null,
      "outputs": [
        {
          "output_type": "stream",
          "name": "stdout",
          "text": [
            "movie_id:\n"
          ]
        }
      ]
    },
    {
      "cell_type": "code",
      "source": [
        "for row in corr_matrix_movies.columns:\n",
        "  print(f\"{row}:\")\n",
        "  for col in corr_matrix_movies.columns:\n",
        "    if corr_matrix_movies[f\"{row}\"][f\"{col}\"] >= 0.70 and corr_matrix_movies[f\"{row}\"][f\"{col}\"]!= 1.0:\n",
        "      # x_scatter = dissimilarity_matrix[f\"{row}\"]\n",
        "      # y_scatter = dissimilarity_matrix[f\"{col}\"]\n",
        "      sns.lmplot(x=f\"{row}\",y=f\"{col}\",data=corr_matrix_movies)\n",
        "      plt.show()"
      ],
      "metadata": {
        "colab": {
          "base_uri": "https://localhost:8080/",
          "height": 1000
        },
        "id": "8dHivhiqmCC4",
        "outputId": "b078061d-3c49-4509-d564-aee0cf859204"
      },
      "execution_count": null,
      "outputs": [
        {
          "output_type": "stream",
          "name": "stdout",
          "text": [
            "budget:\n"
          ]
        },
        {
          "output_type": "display_data",
          "data": {
            "image/png": "[encoded data removed]",
            "text/plain": [
              "<Figure size 360x360 with 1 Axes>"
            ]
          },
          "metadata": {
            "needs_background": "light"
          }
        },
        {
          "output_type": "stream",
          "name": "stdout",
          "text": [
            "id:\n",
            "popularity:\n"
          ]
        },
        {
          "output_type": "display_data",
          "data": {
            "image/png": "[encoded data removed]",
            "text/plain": [
              "<Figure size 360x360 with 1 Axes>"
            ]
          },
          "metadata": {
            "needs_background": "light"
          }
        },
        {
          "output_type": "stream",
          "name": "stdout",
          "text": [
            "revenue:\n"
          ]
        },
        {
          "output_type": "display_data",
          "data": {
            "image/png": "[encoded data removed]",
            "text/plain": [
              "<Figure size 360x360 with 1 Axes>"
            ]
          },
          "metadata": {
            "needs_background": "light"
          }
        },
        {
          "output_type": "display_data",
          "data": {
            "image/png": "[encoded data removed]",
            "text/plain": [
              "<Figure size 360x360 with 1 Axes>"
            ]
          },
          "metadata": {
            "needs_background": "light"
          }
        },
        {
          "output_type": "stream",
          "name": "stdout",
          "text": [
            "runtime:\n",
            "vote_average:\n",
            "vote_count:\n"
          ]
        },
        {
          "output_type": "display_data",
          "data": {
            "image/png": "[encoded data removed]",
            "text/plain": [
              "<Figure size 360x360 with 1 Axes>"
            ]
          },
          "metadata": {
            "needs_background": "light"
          }
        },
        {
          "output_type": "display_data",
          "data": {
            "image/png": "[encoded data removed]",
            "text/plain": [
              "<Figure size 360x360 with 1 Axes>"
            ]
          },
          "metadata": {
            "needs_background": "light"
          }
        }
      ]
    },
    {
      "cell_type": "markdown",
      "source": [
        "# **Upper triangle of correlations**"
      ],
      "metadata": {
        "id": "lFzINcm5mfLQ"
      }
    },
    {
      "cell_type": "code",
      "source": [
        "# Upper triangle of correlations\n",
        "upper = corr_matrix.where(np.triu(np.ones(corr_matrix.shape), k=1).astype(np.bool))\n",
        "upper"
      ],
      "metadata": {
        "colab": {
          "base_uri": "https://localhost:8080/",
          "height": 571
        },
        "id": "DHEIjwenL37z",
        "outputId": "ac712d3e-044e-4417-ac80-f20caf905acd"
      },
      "execution_count": null,
      "outputs": [
        {
          "output_type": "execute_result",
          "data": {
            "text/html": [
              "<div>\n",
              "<style scoped>\n",
              "    .dataframe tbody tr th:only-of-type {\n",
              "        vertical-align: middle;\n",
              "    }\n",
              "\n",
              "    .dataframe tbody tr th {\n",
              "        vertical-align: top;\n",
              "    }\n",
              "\n",
              "    .dataframe thead th {\n",
              "        text-align: right;\n",
              "    }\n",
              "</style>\n",
              "<table border=\"1\" class=\"dataframe\">\n",
              "  <thead>\n",
              "    <tr style=\"text-align: right;\">\n",
              "      <th></th>\n",
              "      <th>num_critic_for_reviews</th>\n",
              "      <th>duration</th>\n",
              "      <th>director_facebook_likes</th>\n",
              "      <th>actor_3_facebook_likes</th>\n",
              "      <th>actor_1_facebook_likes</th>\n",
              "      <th>gross</th>\n",
              "      <th>num_voted_users</th>\n",
              "      <th>cast_total_facebook_likes</th>\n",
              "      <th>facenumber_in_poster</th>\n",
              "      <th>num_user_for_reviews</th>\n",
              "      <th>budget</th>\n",
              "      <th>title_year</th>\n",
              "      <th>actor_2_facebook_likes</th>\n",
              "      <th>imdb_score</th>\n",
              "      <th>aspect_ratio</th>\n",
              "      <th>movie_facebook_likes</th>\n",
              "    </tr>\n",
              "  </thead>\n",
              "  <tbody>\n",
              "    <tr>\n",
              "      <th>num_critic_for_reviews</th>\n",
              "      <td>NaN</td>\n",
              "      <td>0.258486</td>\n",
              "      <td>0.180674</td>\n",
              "      <td>0.271646</td>\n",
              "      <td>0.190016</td>\n",
              "      <td>0.480601</td>\n",
              "      <td>0.624943</td>\n",
              "      <td>0.263203</td>\n",
              "      <td>0.033897</td>\n",
              "      <td>0.609387</td>\n",
              "      <td>0.119994</td>\n",
              "      <td>0.275707</td>\n",
              "      <td>0.282306</td>\n",
              "      <td>0.305303</td>\n",
              "      <td>0.049786</td>\n",
              "      <td>0.683176</td>\n",
              "    </tr>\n",
              "    <tr>\n",
              "      <th>duration</th>\n",
              "      <td>NaN</td>\n",
              "      <td>NaN</td>\n",
              "      <td>0.173296</td>\n",
              "      <td>0.123558</td>\n",
              "      <td>0.088449</td>\n",
              "      <td>0.250298</td>\n",
              "      <td>0.314765</td>\n",
              "      <td>0.123074</td>\n",
              "      <td>0.013469</td>\n",
              "      <td>0.328403</td>\n",
              "      <td>0.074276</td>\n",
              "      <td>0.135038</td>\n",
              "      <td>0.131673</td>\n",
              "      <td>0.261662</td>\n",
              "      <td>0.090071</td>\n",
              "      <td>0.196605</td>\n",
              "    </tr>\n",
              "    <tr>\n",
              "      <th>director_facebook_likes</th>\n",
              "      <td>NaN</td>\n",
              "      <td>NaN</td>\n",
              "      <td>NaN</td>\n",
              "      <td>0.120199</td>\n",
              "      <td>0.090723</td>\n",
              "      <td>0.144945</td>\n",
              "      <td>0.297057</td>\n",
              "      <td>0.119549</td>\n",
              "      <td>0.041268</td>\n",
              "      <td>0.221890</td>\n",
              "      <td>0.021090</td>\n",
              "      <td>0.063820</td>\n",
              "      <td>0.119601</td>\n",
              "      <td>0.170802</td>\n",
              "      <td>0.001642</td>\n",
              "      <td>0.162048</td>\n",
              "    </tr>\n",
              "    <tr>\n",
              "      <th>actor_3_facebook_likes</th>\n",
              "      <td>NaN</td>\n",
              "      <td>NaN</td>\n",
              "      <td>NaN</td>\n",
              "      <td>NaN</td>\n",
              "      <td>0.249927</td>\n",
              "      <td>0.308026</td>\n",
              "      <td>0.287239</td>\n",
              "      <td>0.473920</td>\n",
              "      <td>0.099368</td>\n",
              "      <td>0.230189</td>\n",
              "      <td>0.047451</td>\n",
              "      <td>0.096137</td>\n",
              "      <td>0.559662</td>\n",
              "      <td>0.052633</td>\n",
              "      <td>0.003366</td>\n",
              "      <td>0.278844</td>\n",
              "    </tr>\n",
              "    <tr>\n",
              "      <th>actor_1_facebook_likes</th>\n",
              "      <td>NaN</td>\n",
              "      <td>NaN</td>\n",
              "      <td>NaN</td>\n",
              "      <td>NaN</td>\n",
              "      <td>NaN</td>\n",
              "      <td>0.154468</td>\n",
              "      <td>0.192804</td>\n",
              "      <td>0.951661</td>\n",
              "      <td>0.072257</td>\n",
              "      <td>0.145461</td>\n",
              "      <td>0.022639</td>\n",
              "      <td>0.086873</td>\n",
              "      <td>0.390487</td>\n",
              "      <td>0.076099</td>\n",
              "      <td>0.020049</td>\n",
              "      <td>0.135348</td>\n",
              "    </tr>\n",
              "    <tr>\n",
              "      <th>gross</th>\n",
              "      <td>NaN</td>\n",
              "      <td>NaN</td>\n",
              "      <td>NaN</td>\n",
              "      <td>NaN</td>\n",
              "      <td>NaN</td>\n",
              "      <td>NaN</td>\n",
              "      <td>0.637271</td>\n",
              "      <td>0.247400</td>\n",
              "      <td>0.027755</td>\n",
              "      <td>0.559958</td>\n",
              "      <td>0.102179</td>\n",
              "      <td>0.030886</td>\n",
              "      <td>0.262768</td>\n",
              "      <td>0.198021</td>\n",
              "      <td>0.069346</td>\n",
              "      <td>0.378082</td>\n",
              "    </tr>\n",
              "    <tr>\n",
              "      <th>num_voted_users</th>\n",
              "      <td>NaN</td>\n",
              "      <td>NaN</td>\n",
              "      <td>NaN</td>\n",
              "      <td>NaN</td>\n",
              "      <td>NaN</td>\n",
              "      <td>NaN</td>\n",
              "      <td>NaN</td>\n",
              "      <td>0.265911</td>\n",
              "      <td>0.026998</td>\n",
              "      <td>0.798406</td>\n",
              "      <td>0.079621</td>\n",
              "      <td>0.007397</td>\n",
              "      <td>0.270790</td>\n",
              "      <td>0.410965</td>\n",
              "      <td>0.014761</td>\n",
              "      <td>0.537924</td>\n",
              "    </tr>\n",
              "    <tr>\n",
              "      <th>cast_total_facebook_likes</th>\n",
              "      <td>NaN</td>\n",
              "      <td>NaN</td>\n",
              "      <td>NaN</td>\n",
              "      <td>NaN</td>\n",
              "      <td>NaN</td>\n",
              "      <td>NaN</td>\n",
              "      <td>NaN</td>\n",
              "      <td>NaN</td>\n",
              "      <td>0.091475</td>\n",
              "      <td>0.206923</td>\n",
              "      <td>0.036557</td>\n",
              "      <td>0.109971</td>\n",
              "      <td>0.628404</td>\n",
              "      <td>0.085787</td>\n",
              "      <td>0.017885</td>\n",
              "      <td>0.209786</td>\n",
              "    </tr>\n",
              "    <tr>\n",
              "      <th>facenumber_in_poster</th>\n",
              "      <td>NaN</td>\n",
              "      <td>NaN</td>\n",
              "      <td>NaN</td>\n",
              "      <td>NaN</td>\n",
              "      <td>NaN</td>\n",
              "      <td>NaN</td>\n",
              "      <td>NaN</td>\n",
              "      <td>NaN</td>\n",
              "      <td>NaN</td>\n",
              "      <td>0.069018</td>\n",
              "      <td>0.019559</td>\n",
              "      <td>0.061504</td>\n",
              "      <td>0.071228</td>\n",
              "      <td>0.062958</td>\n",
              "      <td>0.013713</td>\n",
              "      <td>0.008918</td>\n",
              "    </tr>\n",
              "    <tr>\n",
              "      <th>num_user_for_reviews</th>\n",
              "      <td>NaN</td>\n",
              "      <td>NaN</td>\n",
              "      <td>NaN</td>\n",
              "      <td>NaN</td>\n",
              "      <td>NaN</td>\n",
              "      <td>NaN</td>\n",
              "      <td>NaN</td>\n",
              "      <td>NaN</td>\n",
              "      <td>NaN</td>\n",
              "      <td>NaN</td>\n",
              "      <td>0.084292</td>\n",
              "      <td>0.003147</td>\n",
              "      <td>0.219496</td>\n",
              "      <td>0.292475</td>\n",
              "      <td>0.024719</td>\n",
              "      <td>0.400594</td>\n",
              "    </tr>\n",
              "    <tr>\n",
              "      <th>budget</th>\n",
              "      <td>NaN</td>\n",
              "      <td>NaN</td>\n",
              "      <td>NaN</td>\n",
              "      <td>NaN</td>\n",
              "      <td>NaN</td>\n",
              "      <td>NaN</td>\n",
              "      <td>NaN</td>\n",
              "      <td>NaN</td>\n",
              "      <td>NaN</td>\n",
              "      <td>NaN</td>\n",
              "      <td>NaN</td>\n",
              "      <td>0.045726</td>\n",
              "      <td>0.044236</td>\n",
              "      <td>0.030688</td>\n",
              "      <td>0.006598</td>\n",
              "      <td>0.062039</td>\n",
              "    </tr>\n",
              "    <tr>\n",
              "      <th>title_year</th>\n",
              "      <td>NaN</td>\n",
              "      <td>NaN</td>\n",
              "      <td>NaN</td>\n",
              "      <td>NaN</td>\n",
              "      <td>NaN</td>\n",
              "      <td>NaN</td>\n",
              "      <td>NaN</td>\n",
              "      <td>NaN</td>\n",
              "      <td>NaN</td>\n",
              "      <td>NaN</td>\n",
              "      <td>NaN</td>\n",
              "      <td>NaN</td>\n",
              "      <td>0.101890</td>\n",
              "      <td>0.209167</td>\n",
              "      <td>0.159973</td>\n",
              "      <td>0.218678</td>\n",
              "    </tr>\n",
              "    <tr>\n",
              "      <th>actor_2_facebook_likes</th>\n",
              "      <td>NaN</td>\n",
              "      <td>NaN</td>\n",
              "      <td>NaN</td>\n",
              "      <td>NaN</td>\n",
              "      <td>NaN</td>\n",
              "      <td>NaN</td>\n",
              "      <td>NaN</td>\n",
              "      <td>NaN</td>\n",
              "      <td>NaN</td>\n",
              "      <td>NaN</td>\n",
              "      <td>NaN</td>\n",
              "      <td>NaN</td>\n",
              "      <td>NaN</td>\n",
              "      <td>0.083808</td>\n",
              "      <td>0.007783</td>\n",
              "      <td>0.243487</td>\n",
              "    </tr>\n",
              "    <tr>\n",
              "      <th>imdb_score</th>\n",
              "      <td>NaN</td>\n",
              "      <td>NaN</td>\n",
              "      <td>NaN</td>\n",
              "      <td>NaN</td>\n",
              "      <td>NaN</td>\n",
              "      <td>NaN</td>\n",
              "      <td>NaN</td>\n",
              "      <td>NaN</td>\n",
              "      <td>NaN</td>\n",
              "      <td>NaN</td>\n",
              "      <td>NaN</td>\n",
              "      <td>NaN</td>\n",
              "      <td>NaN</td>\n",
              "      <td>NaN</td>\n",
              "      <td>0.059445</td>\n",
              "      <td>0.247049</td>\n",
              "    </tr>\n",
              "    <tr>\n",
              "      <th>aspect_ratio</th>\n",
              "      <td>NaN</td>\n",
              "      <td>NaN</td>\n",
              "      <td>NaN</td>\n",
              "      <td>NaN</td>\n",
              "      <td>NaN</td>\n",
              "      <td>NaN</td>\n",
              "      <td>NaN</td>\n",
              "      <td>NaN</td>\n",
              "      <td>NaN</td>\n",
              "      <td>NaN</td>\n",
              "      <td>NaN</td>\n",
              "      <td>NaN</td>\n",
              "      <td>NaN</td>\n",
              "      <td>NaN</td>\n",
              "      <td>NaN</td>\n",
              "      <td>0.025737</td>\n",
              "    </tr>\n",
              "    <tr>\n",
              "      <th>movie_facebook_likes</th>\n",
              "      <td>NaN</td>\n",
              "      <td>NaN</td>\n",
              "      <td>NaN</td>\n",
              "      <td>NaN</td>\n",
              "      <td>NaN</td>\n",
              "      <td>NaN</td>\n",
              "      <td>NaN</td>\n",
              "      <td>NaN</td>\n",
              "      <td>NaN</td>\n",
              "      <td>NaN</td>\n",
              "      <td>NaN</td>\n",
              "      <td>NaN</td>\n",
              "      <td>NaN</td>\n",
              "      <td>NaN</td>\n",
              "      <td>NaN</td>\n",
              "      <td>NaN</td>\n",
              "    </tr>\n",
              "  </tbody>\n",
              "</table>\n",
              "</div>"
            ],
            "text/plain": [
              "                           num_critic_for_reviews  ...  movie_facebook_likes\n",
              "num_critic_for_reviews                        NaN  ...              0.683176\n",
              "duration                                      NaN  ...              0.196605\n",
              "director_facebook_likes                       NaN  ...              0.162048\n",
              "actor_3_facebook_likes                        NaN  ...              0.278844\n",
              "actor_1_facebook_likes                        NaN  ...              0.135348\n",
              "gross                                         NaN  ...              0.378082\n",
              "num_voted_users                               NaN  ...              0.537924\n",
              "cast_total_facebook_likes                     NaN  ...              0.209786\n",
              "facenumber_in_poster                          NaN  ...              0.008918\n",
              "num_user_for_reviews                          NaN  ...              0.400594\n",
              "budget                                        NaN  ...              0.062039\n",
              "title_year                                    NaN  ...              0.218678\n",
              "actor_2_facebook_likes                        NaN  ...              0.243487\n",
              "imdb_score                                    NaN  ...              0.247049\n",
              "aspect_ratio                                  NaN  ...              0.025737\n",
              "movie_facebook_likes                          NaN  ...                   NaN\n",
              "\n",
              "[16 rows x 16 columns]"
            ]
          },
          "metadata": {},
          "execution_count": 20
        }
      ]
    },
    {
      "cell_type": "code",
      "source": [
        "upper_credit = corr_matrix_credit.where(np.triu(np.ones(corr_matrix_credit.shape), k=1).astype(np.bool))\n",
        "upper_credit.head()"
      ],
      "metadata": {
        "colab": {
          "base_uri": "https://localhost:8080/",
          "height": 81
        },
        "id": "5t2zy7idmvWh",
        "outputId": "d89bed24-d161-4765-a19f-4627e9621ef3"
      },
      "execution_count": null,
      "outputs": [
        {
          "output_type": "execute_result",
          "data": {
            "text/html": [
              "<div>\n",
              "<style scoped>\n",
              "    .dataframe tbody tr th:only-of-type {\n",
              "        vertical-align: middle;\n",
              "    }\n",
              "\n",
              "    .dataframe tbody tr th {\n",
              "        vertical-align: top;\n",
              "    }\n",
              "\n",
              "    .dataframe thead th {\n",
              "        text-align: right;\n",
              "    }\n",
              "</style>\n",
              "<table border=\"1\" class=\"dataframe\">\n",
              "  <thead>\n",
              "    <tr style=\"text-align: right;\">\n",
              "      <th></th>\n",
              "      <th>movie_id</th>\n",
              "    </tr>\n",
              "  </thead>\n",
              "  <tbody>\n",
              "    <tr>\n",
              "      <th>movie_id</th>\n",
              "      <td>NaN</td>\n",
              "    </tr>\n",
              "  </tbody>\n",
              "</table>\n",
              "</div>"
            ],
            "text/plain": [
              "          movie_id\n",
              "movie_id       NaN"
            ]
          },
          "metadata": {},
          "execution_count": 21
        }
      ]
    },
    {
      "cell_type": "code",
      "source": [
        "upper_movies = corr_matrix_movies.where(np.triu(np.ones(corr_matrix_movies.shape), k=1).astype(np.bool))\n",
        "upper_movies.head()"
      ],
      "metadata": {
        "colab": {
          "base_uri": "https://localhost:8080/",
          "height": 206
        },
        "id": "x3rfUmAWnbo6",
        "outputId": "999bb607-ad4b-4965-8464-bc2b83d5b60f"
      },
      "execution_count": null,
      "outputs": [
        {
          "output_type": "execute_result",
          "data": {
            "text/html": [
              "<div>\n",
              "<style scoped>\n",
              "    .dataframe tbody tr th:only-of-type {\n",
              "        vertical-align: middle;\n",
              "    }\n",
              "\n",
              "    .dataframe tbody tr th {\n",
              "        vertical-align: top;\n",
              "    }\n",
              "\n",
              "    .dataframe thead th {\n",
              "        text-align: right;\n",
              "    }\n",
              "</style>\n",
              "<table border=\"1\" class=\"dataframe\">\n",
              "  <thead>\n",
              "    <tr style=\"text-align: right;\">\n",
              "      <th></th>\n",
              "      <th>budget</th>\n",
              "      <th>id</th>\n",
              "      <th>popularity</th>\n",
              "      <th>revenue</th>\n",
              "      <th>runtime</th>\n",
              "      <th>vote_average</th>\n",
              "      <th>vote_count</th>\n",
              "    </tr>\n",
              "  </thead>\n",
              "  <tbody>\n",
              "    <tr>\n",
              "      <th>budget</th>\n",
              "      <td>NaN</td>\n",
              "      <td>0.089377</td>\n",
              "      <td>0.505414</td>\n",
              "      <td>0.730823</td>\n",
              "      <td>0.269851</td>\n",
              "      <td>0.093146</td>\n",
              "      <td>0.593180</td>\n",
              "    </tr>\n",
              "    <tr>\n",
              "      <th>id</th>\n",
              "      <td>NaN</td>\n",
              "      <td>NaN</td>\n",
              "      <td>0.031202</td>\n",
              "      <td>0.050425</td>\n",
              "      <td>0.153536</td>\n",
              "      <td>0.270595</td>\n",
              "      <td>0.004128</td>\n",
              "    </tr>\n",
              "    <tr>\n",
              "      <th>popularity</th>\n",
              "      <td>NaN</td>\n",
              "      <td>NaN</td>\n",
              "      <td>NaN</td>\n",
              "      <td>0.644724</td>\n",
              "      <td>0.225502</td>\n",
              "      <td>0.273952</td>\n",
              "      <td>0.778130</td>\n",
              "    </tr>\n",
              "    <tr>\n",
              "      <th>revenue</th>\n",
              "      <td>NaN</td>\n",
              "      <td>NaN</td>\n",
              "      <td>NaN</td>\n",
              "      <td>NaN</td>\n",
              "      <td>0.251093</td>\n",
              "      <td>0.197150</td>\n",
              "      <td>0.781487</td>\n",
              "    </tr>\n",
              "    <tr>\n",
              "      <th>runtime</th>\n",
              "      <td>NaN</td>\n",
              "      <td>NaN</td>\n",
              "      <td>NaN</td>\n",
              "      <td>NaN</td>\n",
              "      <td>NaN</td>\n",
              "      <td>0.375046</td>\n",
              "      <td>0.271944</td>\n",
              "    </tr>\n",
              "  </tbody>\n",
              "</table>\n",
              "</div>"
            ],
            "text/plain": [
              "            budget        id  popularity  ...   runtime  vote_average  vote_count\n",
              "budget         NaN  0.089377    0.505414  ...  0.269851      0.093146    0.593180\n",
              "id             NaN       NaN    0.031202  ...  0.153536      0.270595    0.004128\n",
              "popularity     NaN       NaN         NaN  ...  0.225502      0.273952    0.778130\n",
              "revenue        NaN       NaN         NaN  ...  0.251093      0.197150    0.781487\n",
              "runtime        NaN       NaN         NaN  ...       NaN      0.375046    0.271944\n",
              "\n",
              "[5 rows x 7 columns]"
            ]
          },
          "metadata": {},
          "execution_count": 22
        }
      ]
    },
    {
      "cell_type": "markdown",
      "source": [
        "## Select columns with correlations above **threshold**"
      ],
      "metadata": {
        "id": "Ev6qx-MZoC6f"
      }
    },
    {
      "cell_type": "code",
      "source": [
        "# Select columns with correlations above threshold\n",
        "to_drop = [column for column in upper.columns if any(upper[column] > threshold)]\n",
        "\n",
        "print('There are %d columns to remove.' % (len(to_drop)))"
      ],
      "metadata": {
        "colab": {
          "base_uri": "https://localhost:8080/"
        },
        "id": "SPBxDvCtM4qs",
        "outputId": "d4e3b262-65a6-40be-f7bc-e0f94ff09066"
      },
      "execution_count": null,
      "outputs": [
        {
          "output_type": "stream",
          "name": "stdout",
          "text": [
            "There are 2 columns to remove.\n"
          ]
        }
      ]
    },
    {
      "cell_type": "code",
      "source": [
        "# Select columns with correlations above threshold\n",
        "to_drop_credit = [column for column in upper_credit.columns if any(upper_credit[column] > threshold)]\n",
        "\n",
        "print('There are %d columns to remove.' % (len(to_drop_credit)))"
      ],
      "metadata": {
        "colab": {
          "base_uri": "https://localhost:8080/"
        },
        "id": "-J0c7ePVoKVe",
        "outputId": "bd80af5f-8fd9-4698-f69d-fd1b931793a6"
      },
      "execution_count": null,
      "outputs": [
        {
          "output_type": "stream",
          "name": "stdout",
          "text": [
            "There are 0 columns to remove.\n"
          ]
        }
      ]
    },
    {
      "cell_type": "code",
      "source": [
        "to_drop_movies = [column for column in upper_movies.columns if any(upper_movies[column] > threshold)]\n",
        "\n",
        "print('There are %d columns to remove.' % (len(to_drop_movies)))"
      ],
      "metadata": {
        "colab": {
          "base_uri": "https://localhost:8080/"
        },
        "id": "k2Ax_x80of5e",
        "outputId": "1c660743-3017-469a-81d2-cb0033f4f2ce"
      },
      "execution_count": null,
      "outputs": [
        {
          "output_type": "stream",
          "name": "stdout",
          "text": [
            "There are 2 columns to remove.\n"
          ]
        }
      ]
    },
    {
      "cell_type": "markdown",
      "source": [
        "# Drop Correlated **Variables**"
      ],
      "metadata": {
        "id": "NyFIWQ6apgo5"
      }
    },
    {
      "cell_type": "code",
      "source": [
        "# Drop Correlated Variables\n",
        "print('movieDataSet shape: ', movieDataSet.shape)\n",
        "train = movieDataSet.drop(columns = to_drop)\n",
        "print('Training shape: ', train.shape)"
      ],
      "metadata": {
        "colab": {
          "base_uri": "https://localhost:8080/"
        },
        "id": "6AfwieMBNuqS",
        "outputId": "01c9cc97-4d9c-4082-cd63-e39ca6d13cc9"
      },
      "execution_count": null,
      "outputs": [
        {
          "output_type": "stream",
          "name": "stdout",
          "text": [
            "movieDataSet shape:  (5043, 28)\n",
            "Training shape:  (5043, 26)\n"
          ]
        }
      ]
    },
    {
      "cell_type": "code",
      "source": [
        "print('credit shape: ', credit_DataFrame.shape)\n",
        "train_credit = credit_DataFrame.drop(columns = to_drop_credit)\n",
        "print('Training shape: ', train_credit.shape)"
      ],
      "metadata": {
        "colab": {
          "base_uri": "https://localhost:8080/"
        },
        "id": "sh8gno9opl0s",
        "outputId": "eb56d168-f211-4afe-dbee-767fe356aa33"
      },
      "execution_count": null,
      "outputs": [
        {
          "output_type": "stream",
          "name": "stdout",
          "text": [
            "credit shape:  (4803, 4)\n",
            "Training shape:  (4803, 4)\n"
          ]
        }
      ]
    },
    {
      "cell_type": "code",
      "source": [
        "print('movies shape: ', movies_DataFrame.shape)\n",
        "train_movies = movies_DataFrame.drop(columns = to_drop_movies)\n",
        "print('Training shape: ', train_movies.shape)"
      ],
      "metadata": {
        "colab": {
          "base_uri": "https://localhost:8080/"
        },
        "id": "RlAYafnHp1To",
        "outputId": "d0b258eb-c392-4377-9458-65d305bf987b"
      },
      "execution_count": null,
      "outputs": [
        {
          "output_type": "stream",
          "name": "stdout",
          "text": [
            "movies shape:  (4803, 20)\n",
            "Training shape:  (4803, 18)\n"
          ]
        }
      ]
    },
    {
      "cell_type": "markdown",
      "source": [
        "Remove Missing Values\n",
        "\n",
        "A relatively simple choice of feature selection is removing missing values. Well, it seems simple, at least until we have to decide what percentage of missing values is the minimum threshold for removing a column. Like many choices in machine learning, there is no right answer, and not even a general rule of thumb for making this choice. In this implementation, if any columns have greater than 75% missing values, they will be removed.\n",
        "\n",
        "Most models (including those in Sk-Learn) cannot handle missing values, so we will have to fill these in before machine learning. The Gradient Boosting Machine (at least in LightGBM) can handle missing values. Imputing missing values always makes me a little uncomfortable because we are adding information that actually isn't in the dataset. Since we are going to be evaluating several models (in a later notebook), we will have to use some form of imputation. For now, we will focus on removing columns above the threshold"
      ],
      "metadata": {
        "id": "nkinqYWHWpiE"
      }
    },
    {
      "cell_type": "code",
      "source": [
        "train_missing = (train.isnull().sum() / len(train)).sort_values(ascending = False)\n",
        "train_missing.head()\n",
        "print('Training set full shape: ', train.shape)"
      ],
      "metadata": {
        "id": "RS9w62eKWKEh",
        "colab": {
          "base_uri": "https://localhost:8080/"
        },
        "outputId": "680d55f9-8e14-4fec-d2e0-51d42f121ca2"
      },
      "execution_count": null,
      "outputs": [
        {
          "output_type": "stream",
          "name": "stdout",
          "text": [
            "Training set full shape:  (5043, 26)\n"
          ]
        }
      ]
    },
    {
      "cell_type": "code",
      "source": [
        "train_missing_credit = (train_credit.isnull().sum() / len(train_credit)).sort_values(ascending = False)\n",
        "train_missing_credit.head()\n",
        "print('Training set full shape: ', train_missing_credit.shape)"
      ],
      "metadata": {
        "colab": {
          "base_uri": "https://localhost:8080/"
        },
        "id": "jh7lRIqpworu",
        "outputId": "e1f1ae07-a972-4067-be71-3a900aa3b365"
      },
      "execution_count": null,
      "outputs": [
        {
          "output_type": "stream",
          "name": "stdout",
          "text": [
            "Training set full shape:  (4,)\n"
          ]
        }
      ]
    },
    {
      "cell_type": "code",
      "source": [
        "train_missing_movies = (train_movies.isnull().sum() / len(train_movies)).sort_values(ascending = False)\n",
        "train_missing_movies.head()\n",
        "print('Training set full shape: ', train_missing_movies.shape)"
      ],
      "metadata": {
        "colab": {
          "base_uri": "https://localhost:8080/"
        },
        "id": "-6ph3tNvw3mi",
        "outputId": "ae9904f1-6ceb-422e-e2cf-b9c6331ef408"
      },
      "execution_count": null,
      "outputs": [
        {
          "output_type": "stream",
          "name": "stdout",
          "text": [
            "Training set full shape:  (18,)\n"
          ]
        }
      ]
    },
    {
      "cell_type": "code",
      "source": [
        "# Identify missing values above threshold\n",
        "train_missing = train_missing[train_missing > 0.75]\n",
        "\n",
        "all_missing = list(set(train_missing))\n",
        "print('There are %d columns with more than 75%% missing values' % len(all_missing))"
      ],
      "metadata": {
        "id": "hCR3x9eSXp9-",
        "colab": {
          "base_uri": "https://localhost:8080/"
        },
        "outputId": "cff783db-d5e1-47e3-bcd2-e7827e53bac9"
      },
      "execution_count": null,
      "outputs": [
        {
          "output_type": "stream",
          "name": "stdout",
          "text": [
            "There are 0 columns with more than 75% missing values\n"
          ]
        }
      ]
    },
    {
      "cell_type": "code",
      "source": [
        "train_missing_credit = train_missing_credit[train_missing_credit > 0.75]\n",
        "\n",
        "all_missing_credit = list(set(train_missing_credit))\n",
        "print('There are %d columns with more than 75%% missing values' % len(all_missing_credit))"
      ],
      "metadata": {
        "colab": {
          "base_uri": "https://localhost:8080/"
        },
        "id": "xI5ry47m1qzh",
        "outputId": "f02fda4a-1044-49f3-f043-b459803cdc1c"
      },
      "execution_count": null,
      "outputs": [
        {
          "output_type": "stream",
          "name": "stdout",
          "text": [
            "There are 0 columns with more than 75% missing values\n"
          ]
        }
      ]
    },
    {
      "cell_type": "code",
      "source": [
        "train_missing_movies = train_missing_movies[train_missing_movies > 0.75]\n",
        "\n",
        "all_missing_movies = list(set(train_missing_movies))\n",
        "print('There are %d columns with more than 75%% missing values' % len(all_missing_movies))"
      ],
      "metadata": {
        "colab": {
          "base_uri": "https://localhost:8080/"
        },
        "id": "itXMTu0719Vg",
        "outputId": "7cd19598-b5ba-40f4-b125-a6209de8fa09"
      },
      "execution_count": null,
      "outputs": [
        {
          "output_type": "stream",
          "name": "stdout",
          "text": [
            "There are 0 columns with more than 75% missing values\n"
          ]
        }
      ]
    },
    {
      "cell_type": "markdown",
      "source": [
        "Let's drop the columns, one-hot encode the dataframes, and then align the columns of the dataframes"
      ],
      "metadata": {
        "id": "8Mq6bBTlZcHE"
      }
    },
    {
      "cell_type": "code",
      "source": [
        "print('Training set full shape: ', train.shape)\n",
        "# train = pd.get_dummies(train.drop(columns = all_missing))\n",
        "train = train.drop(columns = all_missing)\n",
        "print('Training set full shape: ', train.shape)\n",
        "train.head()"
      ],
      "metadata": {
        "id": "-mYzKBWKZeE2"
      },
      "execution_count": null,
      "outputs": []
    },
    {
      "cell_type": "code",
      "source": [
        "from sklearn.feature_selection import VarianceThreshold\n",
        "varModel=VarianceThreshold(threshold=0) #Setting variance threshold to 0 which means features that have same value in all samples.\n",
        "train_number = train.select_dtypes(include='number')\n",
        "print(train_number)\n",
        "varModel.fit(train_number)"
      ],
      "metadata": {
        "id": "1mMul06s-rE5"
      },
      "execution_count": null,
      "outputs": []
    },
    {
      "cell_type": "code",
      "source": [
        "constArr=varModel.get_support()\n",
        "constArr"
      ],
      "metadata": {
        "id": "74Ksp9CwCdrN"
      },
      "execution_count": null,
      "outputs": []
    },
    {
      "cell_type": "code",
      "source": [
        "#To find total number of constant and non constant features we will be using collections.Counter function.\n",
        "import collections\n",
        "collections.Counter(constArr)\n",
        "#Non Constant feature:284\n",
        "#Constant feature: 86"
      ],
      "metadata": {
        "id": "GWRoPctaFLy1"
      },
      "execution_count": null,
      "outputs": []
    },
    {
      "cell_type": "code",
      "source": [
        "#Print out constant feature name\n",
        "constCol=[col for col in train_number.columns if col not in train_number.columns[constArr]]\n",
        "constCol"
      ],
      "metadata": {
        "id": "x6-XOGF_F98n"
      },
      "execution_count": null,
      "outputs": []
    },
    {
      "cell_type": "code",
      "source": [
        "train_number.num_voted_users.value_counts"
      ],
      "metadata": {
        "id": "RpByCoFcHNmB"
      },
      "execution_count": null,
      "outputs": []
    },
    {
      "cell_type": "markdown",
      "source": [
        "ویژگی های شبه ثابت آنهایی هستند که برای اکثر مشاهدات مجموعه داده یک مقدار را نشان می دهند. ما عمدتاً این ویژگی ها را در پیش بینی نتیجه در نظر نمی گیریم. برای شناسایی ویژگی های شبه ثابت، می توانیم از تابع VarianceThreshold از sklearn استفاده کنیم. ما از همان مجموعه آموزشی و مجموعه تست استفاده خواهیم کرد."
      ],
      "metadata": {
        "id": "uQ8hQ6BlNlxS"
      }
    },
    {
      "cell_type": "markdown",
      "source": [
        "آستانه واریانس از sklearn یک رویکرد ساده پایه برای انتخاب ویژگی است. تمام ویژگی‌هایی را که واریانس آن‌ها آستانه‌ای را برآورده نمی‌کند، حذف می‌کند. به‌طور پیش‌فرض، تمام ویژگی‌های واریانس صفر، یعنی ویژگی‌هایی که در همه نمونه‌ها مقدار یکسانی دارند، حذف می‌کند."
      ],
      "metadata": {
        "id": "kQLStw1pOvoK"
      }
    },
    {
      "cell_type": "code",
      "source": [
        "#Create variance threshold model\n",
        "quasiModel=VarianceThreshold(threshold=0.01) #It will search for the features having 99% of same value in all samples.\n",
        "quasiModel.fit(train_number)"
      ],
      "metadata": {
        "colab": {
          "base_uri": "https://localhost:8080/"
        },
        "id": "_rwM9mbtNkdr",
        "outputId": "84f58cff-5e6f-4f10-bb85-38fc5ddfc53e"
      },
      "execution_count": null,
      "outputs": [
        {
          "output_type": "execute_result",
          "data": {
            "text/plain": [
              "VarianceThreshold(threshold=0.01)"
            ]
          },
          "metadata": {},
          "execution_count": 27
        }
      ]
    },
    {
      "cell_type": "code",
      "source": [
        "quasiArr=quasiModel.get_support()\n",
        "quasiArr\n",
        "#get_support() return True and False value for each feature.\n",
        "#True: Not a quasi constant feature\n",
        "#False: Quasi constant feature(It contains 99% same value in all samples.)"
      ],
      "metadata": {
        "colab": {
          "base_uri": "https://localhost:8080/"
        },
        "id": "tZWbYM9dPr7D",
        "outputId": "b11a8674-e62b-4e9b-d1f9-0113d89374e0"
      },
      "execution_count": null,
      "outputs": [
        {
          "output_type": "execute_result",
          "data": {
            "text/plain": [
              "array([ True,  True,  True,  True,  True,  True,  True,  True,  True,\n",
              "        True,  True,  True,  True,  True,  True])"
            ]
          },
          "metadata": {},
          "execution_count": 28
        }
      ]
    },
    {
      "cell_type": "markdown",
      "source": [
        "We can see there are 43 features/columns having quasi constant value. This mean they have 99% same value in all samples. Lets proof that, by selecting some of the quasi constant features and print out value counts."
      ],
      "metadata": {
        "id": "YvZI5LDFP971"
      }
    },
    {
      "cell_type": "code",
      "source": [
        "#Print out quasi constant feature name\n",
        "quasiCols=[col for col in train_number.columns if col not in train_number.columns[quasiArr]]\n",
        "quasiCols"
      ],
      "metadata": {
        "id": "CP0fJfE-QKdO"
      },
      "execution_count": null,
      "outputs": []
    },
    {
      "cell_type": "markdown",
      "source": [
        "We can see here more than 99% observation show one value 0. Therefore, there features are almost constant. Lets remove it from training set and test set."
      ],
      "metadata": {
        "id": "KTiLO9CJQhAE"
      }
    },
    {
      "cell_type": "code",
      "source": [
        "print('Shape before drop-->',train_number.shape)\n",
        "train_number.drop(columns=quasiCols,axis=1,inplace=True)\n",
        "print('Shape after drop-->',train_number.shape)"
      ],
      "metadata": {
        "id": "qI1CgRLbQiOV"
      },
      "execution_count": null,
      "outputs": []
    },
    {
      "cell_type": "markdown",
      "source": [
        "Duplicated Features\n",
        "\n",
        "Often datasets contain one or more features that show the same values across all the observations. This means that both features are in essence identical. In addition, it is not unusual to introduce duplicated features after performing one hot encoding of categorical variables, particularly when using several highly cardinal variables.\n",
        "Note: Finding duplicated features is a computationally costly operation in Python, therefore depending on the size of your dataset, you might not always be able to perform it."
      ],
      "metadata": {
        "id": "ObSka2hlAxac"
      }
    },
    {
      "cell_type": "code",
      "source": [
        "#The method will find the duplicate columns and return name of duplicated columns in an array\n",
        "def duplicateColumns(data):\n",
        "    dupliCols=[]\n",
        "    for i in range(0,len(data.columns)):\n",
        "        col1=data.columns[i]\n",
        "        for col2 in data.columns[i+1:]:\n",
        "            if data[col1].equals(data[col2]):\n",
        "                dupliCols.append(col1+','+col2)\n",
        "    return dupliCols"
      ],
      "metadata": {
        "id": "wZzjwSS_BWXy"
      },
      "execution_count": null,
      "outputs": []
    },
    {
      "cell_type": "code",
      "source": [
        "duplCols=duplicateColumns(train_number)\n",
        "duplCols"
      ],
      "metadata": {
        "id": "5BMbrrAsB18J"
      },
      "execution_count": null,
      "outputs": []
    },
    {
      "cell_type": "code",
      "source": [
        "print('Total Duplicated columns',len(duplCols))"
      ],
      "metadata": {
        "id": "LK375Lt6Fgko"
      },
      "execution_count": null,
      "outputs": []
    },
    {
      "cell_type": "code",
      "source": [
        "#Get the duplicate column names\n",
        "dCols=[col.split(',')[1] for col in duplCols]\n",
        "dCols"
      ],
      "metadata": {
        "id": "YA7bWCn5FlTT"
      },
      "execution_count": null,
      "outputs": []
    },
    {
      "cell_type": "markdown",
      "source": [
        "Remove the duplicat columns from training set and test set"
      ],
      "metadata": {
        "id": "IgladKLLF6me"
      }
    },
    {
      "cell_type": "code",
      "source": [
        "print('Shape of our data before applying filter technique-->',train_number.shape)\n",
        "train_number=train_number.drop(columns=dCols,axis=1)\n",
        "print('Shape after droping duplicate columns-->',train_number.shape)"
      ],
      "metadata": {
        "id": "IZ0l0n-ZF7wK"
      },
      "execution_count": null,
      "outputs": []
    }
  ],
  "metadata": {
    "colab": {
      "provenance": []
    },
    "kernelspec": {
      "display_name": "Python 3",
      "name": "python3"
    },
    "language_info": {
      "name": "python"
    }
  },
  "nbformat": 4,
  "nbformat_minor": 0
}