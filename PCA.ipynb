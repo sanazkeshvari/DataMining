{
  "nbformat": 4,
  "nbformat_minor": 0,
  "metadata": {
    "colab": {
      "provenance": []
    },
    "kernelspec": {
      "name": "python3",
      "display_name": "Python 3"
    },
    "language_info": {
      "name": "python"
    }
  },
  "cells": [
    {
      "cell_type": "markdown",
      "metadata": {
        "id": "QLs4WJihryp5"
      },
      "source": [
        "**PCA for Data Visualization**"
      ]
    },
    {
      "cell_type": "markdown",
      "metadata": {
        "id": "zXteWewWmZ7b"
      },
      "source": [
        "Create random dataset 2-dimention"
      ]
    },
    {
      "cell_type": "code",
      "metadata": {
        "colab": {
          "base_uri": "https://localhost:8080/"
        },
        "id": "vv7PG25Bmaff",
        "outputId": "73fd8a47-cd9f-4039-e640-8ea8ea265c87"
      },
      "source": [
        "import numpy as np\n",
        "np.random.seed(0)  # seed for reproducibility\n",
        "data1 = np.random.normal(0, size=(10, 2))  # Two-dimensional array\n",
        "print(data1)"
      ],
      "execution_count": null,
      "outputs": [
        {
          "output_type": "stream",
          "name": "stdout",
          "text": [
            "[[ 1.76405235  0.40015721]\n",
            " [ 0.97873798  2.2408932 ]\n",
            " [ 1.86755799 -0.97727788]\n",
            " [ 0.95008842 -0.15135721]\n",
            " [-0.10321885  0.4105985 ]\n",
            " [ 0.14404357  1.45427351]\n",
            " [ 0.76103773  0.12167502]\n",
            " [ 0.44386323  0.33367433]\n",
            " [ 1.49407907 -0.20515826]\n",
            " [ 0.3130677  -0.85409574]]\n"
          ]
        }
      ]
    },
    {
      "cell_type": "markdown",
      "metadata": {
        "id": "zTbM_yHgnQ2f"
      },
      "source": [
        "Data Visualization"
      ]
    },
    {
      "cell_type": "code",
      "metadata": {
        "colab": {
          "base_uri": "https://localhost:8080/",
          "height": 281
        },
        "id": "EidRyvDanZCl",
        "outputId": "fede99c8-5d16-4f9f-8754-0f7e07fe1116"
      },
      "source": [
        "import matplotlib.pyplot as plt\n",
        "\n",
        "x1 = data1[:,0]\n",
        "y1 = data1[:,1]\n",
        "#print(y1)\n",
        "plt.scatter(x1, y1, marker='v', color='r')\n",
        "plt.title('Plot Example')\n",
        "plt.show()"
      ],
      "execution_count": null,
      "outputs": [
        {
          "output_type": "display_data",
          "data": {
            "image/png": "[encoded data removed]",
            "text/plain": [
              "<Figure size 432x288 with 1 Axes>"
            ]
          },
          "metadata": {
            "needs_background": "light"
          }
        }
      ]
    },
    {
      "cell_type": "markdown",
      "metadata": {
        "id": "dSgCUU2ipskB"
      },
      "source": [
        "Create random dataset K-dimention"
      ]
    },
    {
      "cell_type": "code",
      "metadata": {
        "colab": {
          "base_uri": "https://localhost:8080/"
        },
        "id": "r2JbmONgpwHW",
        "outputId": "5ec9baf7-d252-434b-fef7-a599405d9c7a"
      },
      "source": [
        "np.random.seed(0)  # seed for reproducibility\n",
        "data2 = np.random.normal(0, size=(100, 5))  # Two-dimensional array\n",
        "print(data2)"
      ],
      "execution_count": null,
      "outputs": [
        {
          "output_type": "stream",
          "name": "stdout",
          "text": [
            "[[ 1.76405235  0.40015721  0.97873798  2.2408932   1.86755799]\n",
            " [-0.97727788  0.95008842 -0.15135721 -0.10321885  0.4105985 ]\n",
            " [ 0.14404357  1.45427351  0.76103773  0.12167502  0.44386323]\n",
            " [ 0.33367433  1.49407907 -0.20515826  0.3130677  -0.85409574]\n",
            " [-2.55298982  0.6536186   0.8644362  -0.74216502  2.26975462]\n",
            " [-1.45436567  0.04575852 -0.18718385  1.53277921  1.46935877]\n",
            " [ 0.15494743  0.37816252 -0.88778575 -1.98079647 -0.34791215]\n",
            " [ 0.15634897  1.23029068  1.20237985 -0.38732682 -0.30230275]\n",
            " [-1.04855297 -1.42001794 -1.70627019  1.9507754  -0.50965218]\n",
            " [-0.4380743  -1.25279536  0.77749036 -1.61389785 -0.21274028]\n",
            " [-0.89546656  0.3869025  -0.51080514 -1.18063218 -0.02818223]\n",
            " [ 0.42833187  0.06651722  0.3024719  -0.63432209 -0.36274117]\n",
            " [-0.67246045 -0.35955316 -0.81314628 -1.7262826   0.17742614]\n",
            " [-0.40178094 -1.63019835  0.46278226 -0.90729836  0.0519454 ]\n",
            " [ 0.72909056  0.12898291  1.13940068 -1.23482582  0.40234164]\n",
            " [-0.68481009 -0.87079715 -0.57884966 -0.31155253  0.05616534]\n",
            " [-1.16514984  0.90082649  0.46566244 -1.53624369  1.48825219]\n",
            " [ 1.89588918  1.17877957 -0.17992484 -1.07075262  1.05445173]\n",
            " [-0.40317695  1.22244507  0.20827498  0.97663904  0.3563664 ]\n",
            " [ 0.70657317  0.01050002  1.78587049  0.12691209  0.40198936]\n",
            " [ 1.8831507  -1.34775906 -1.270485    0.96939671 -1.17312341]\n",
            " [ 1.94362119 -0.41361898 -0.74745481  1.92294203  1.48051479]\n",
            " [ 1.86755896  0.90604466 -0.86122569  1.91006495 -0.26800337]\n",
            " [ 0.8024564   0.94725197 -0.15501009  0.61407937  0.92220667]\n",
            " [ 0.37642553 -1.09940079  0.29823817  1.3263859  -0.69456786]\n",
            " [-0.14963454 -0.43515355  1.84926373  0.67229476  0.40746184]\n",
            " [-0.76991607  0.53924919 -0.67433266  0.03183056 -0.63584608]\n",
            " [ 0.67643329  0.57659082 -0.20829876  0.39600671 -1.09306151]\n",
            " [-1.49125759  0.4393917   0.1666735   0.63503144  2.38314477]\n",
            " [ 0.94447949 -0.91282223  1.11701629 -1.31590741 -0.4615846 ]\n",
            " [-0.06824161  1.71334272 -0.74475482 -0.82643854 -0.09845252]\n",
            " [-0.66347829  1.12663592 -1.07993151 -1.14746865 -0.43782004]\n",
            " [-0.49803245  1.92953205  0.94942081  0.08755124 -1.22543552]\n",
            " [ 0.84436298 -1.00021535 -1.5447711   1.18802979  0.31694261]\n",
            " [ 0.92085882  0.31872765  0.85683061 -0.65102559 -1.03424284]\n",
            " [ 0.68159452 -0.80340966 -0.68954978 -0.4555325   0.01747916]\n",
            " [-0.35399391 -1.37495129 -0.6436184  -2.22340315  0.62523145]\n",
            " [-1.60205766 -1.10438334  0.05216508 -0.739563    1.5430146 ]\n",
            " [-1.29285691  0.26705087 -0.03928282 -1.1680935   0.52327666]\n",
            " [-0.17154633  0.77179055  0.82350415  2.16323595  1.33652795]\n",
            " [-0.36918184 -0.23937918  1.0996596   0.65526373  0.64013153]\n",
            " [-1.61695604 -0.02432612 -0.73803091  0.2799246  -0.09815039]\n",
            " [ 0.91017891  0.31721822  0.78632796 -0.4664191  -0.94444626]\n",
            " [-0.41004969 -0.01702041  0.37915174  2.25930895 -0.04225715]\n",
            " [-0.955945   -0.34598178 -0.46359597  0.48148147 -1.54079701]\n",
            " [ 0.06326199  0.15650654  0.23218104 -0.59731607 -0.23792173]\n",
            " [-1.42406091 -0.49331988 -0.54286148  0.41605005 -1.15618243]\n",
            " [ 0.7811981   1.49448454 -2.06998503  0.42625873  0.67690804]\n",
            " [-0.63743703 -0.39727181 -0.13288058 -0.29779088 -0.30901297]\n",
            " [-1.67600381  1.15233156  1.07961859 -0.81336426 -1.46642433]\n",
            " [ 0.52106488 -0.57578797  0.14195316 -0.31932842  0.69153875]\n",
            " [ 0.69474914 -0.72559738 -1.38336396 -1.5829384   0.61037938]\n",
            " [-1.18885926 -0.50681635 -0.59631404 -0.0525673  -1.93627981]\n",
            " [ 0.1887786   0.52389102  0.08842209 -0.31088617  0.09740017]\n",
            " [ 0.39904635 -2.77259276  1.95591231  0.39009332 -0.65240858]\n",
            " [-0.39095338  0.49374178 -0.11610394 -2.03068447  2.06449286]\n",
            " [-0.11054066  1.02017271 -0.69204985  1.53637705  0.28634369]\n",
            " [ 0.60884383 -1.04525337  1.21114529  0.68981816  1.30184623]\n",
            " [-0.62808756 -0.48102712  2.3039167  -1.06001582 -0.1359497 ]\n",
            " [ 1.13689136  0.09772497  0.58295368 -0.39944903  0.37005589]\n",
            " [-1.30652685  1.65813068 -0.11816405 -0.6801782   0.66638308]\n",
            " [-0.46071979 -1.33425847 -1.34671751  0.69377315 -0.15957344]\n",
            " [-0.13370156  1.07774381 -1.12682581 -0.73067775 -0.38487981]\n",
            " [ 0.09435159 -0.04217145 -0.28688719 -0.0616264  -0.10730528]\n",
            " [-0.71960439 -0.81299299  0.27451636 -0.89091508 -1.15735526]\n",
            " [-0.31229225 -0.15766702  2.2567235  -0.70470028  0.94326072]\n",
            " [ 0.74718833 -1.18894496  0.77325298 -1.18388064 -2.65917224]\n",
            " [ 0.60631952 -1.75589058  0.45093446 -0.6840109   1.6595508 ]\n",
            " [ 1.0685094  -0.4533858  -0.68783761 -1.2140774  -0.44092263]\n",
            " [-0.2803555  -0.36469354  0.15670386  0.5785215   0.34965446]\n",
            " [-0.76414392 -1.43779147  1.36453185 -0.68944918 -0.6522936 ]\n",
            " [-0.52118931 -1.84306955 -0.477974   -0.47965581  0.6203583 ]\n",
            " [ 0.69845715  0.00377089  0.93184837  0.33996498 -0.01568211]\n",
            " [ 0.16092817 -0.19065349 -0.39484951 -0.26773354 -1.12801133]\n",
            " [ 0.28044171 -0.99312361  0.84163126 -0.24945858  0.04949498]\n",
            " [ 0.49383678  0.64331447 -1.57062341 -0.20690368  0.88017891]\n",
            " [-1.69810582  0.38728048 -2.25556423 -1.02250684  0.03863055]\n",
            " [-1.6567151  -0.98551074 -1.47183501  1.64813493  0.16422776]\n",
            " [ 0.56729028 -0.2226751  -0.35343175 -1.61647419 -0.29183736]\n",
            " [-0.76149221  0.85792392  1.14110187  1.46657872  0.85255194]\n",
            " [-0.59865394 -1.11589699  0.76666318  0.35629282 -1.76853845]\n",
            " [ 0.35548179  0.81451982  0.05892559 -0.18505367 -0.80764849]\n",
            " [-1.4465347   0.80029795 -0.30911444 -0.23346666  1.73272119]\n",
            " [ 0.68450111  0.370825    0.14206181  1.51999486  1.71958931]\n",
            " [ 0.92950511  0.58222459 -2.09460307  0.12372191 -0.13010695]\n",
            " [ 0.09395323  0.94304609 -2.73967717 -0.56931205  0.26990435]\n",
            " [-0.46684555 -1.41690611  0.86896349  0.27687191 -0.97110457]\n",
            " [ 0.3148172   0.82158571  0.00529265  0.8005648   0.07826018]\n",
            " [-0.39522898 -1.15942052 -0.08593077  0.19429294  0.87583276]\n",
            " [-0.11510747  0.45741561 -0.96461201 -0.78262916 -0.1103893 ]\n",
            " [-1.05462846  0.82024784  0.46313033  0.27909576  0.33890413]\n",
            " [ 2.02104356 -0.46886419 -2.20144129  0.1993002  -0.05060354]\n",
            " [-0.51751904 -0.97882986 -0.43918952  0.18133843 -0.5028167 ]\n",
            " [ 2.41245368 -0.96050438 -0.79311736 -2.28862004  0.25148442]\n",
            " [-2.01640663 -0.53945463 -0.27567053 -0.70972797  1.73887268]\n",
            " [ 0.99439439  1.31913688 -0.88241882  1.12859406  0.49600095]\n",
            " [ 0.77140595  1.02943883 -0.90876325 -0.42431762  0.86259601]\n",
            " [-2.65561909  1.51332808  0.55313206 -0.04570396  0.22050766]\n",
            " [-1.02993528 -0.34994336  1.10028434  1.29802197  2.69622405]\n",
            " [-0.07392467 -0.65855297 -0.51423397 -1.01804188 -0.07785476]]\n"
          ]
        }
      ]
    },
    {
      "cell_type": "markdown",
      "metadata": {
        "id": "_gGiOQWYp1hW"
      },
      "source": [
        "Data Visualization"
      ]
    },
    {
      "cell_type": "code",
      "metadata": {
        "colab": {
          "base_uri": "https://localhost:8080/"
        },
        "id": "s51uEb7lq2vs",
        "outputId": "abbc3394-818c-4ff8-9de5-b8b00da2e041"
      },
      "source": [
        "from sklearn.decomposition import PCA\n",
        "pca = PCA(n_components=2)\n",
        "principalComponents = pca.fit_transform(data2)\n",
        "print(principalComponents)"
      ],
      "execution_count": null,
      "outputs": [
        {
          "output_type": "stream",
          "name": "stdout",
          "text": [
            "[[-2.30765111e+00  1.42897663e+00]\n",
            " [-7.65295322e-01 -4.76202041e-01]\n",
            " [-9.38040599e-01 -8.04581324e-02]\n",
            " [-1.71723565e-01  8.67144806e-01]\n",
            " [-1.82178841e+00 -2.69717173e+00]\n",
            " [-2.16662596e+00 -3.94943356e-01]\n",
            " [ 1.45013244e+00  2.67175125e-02]\n",
            " [-1.08089806e-01 -4.50354460e-01]\n",
            " [-4.05235219e-01  1.02405097e+00]\n",
            " [ 1.54186145e+00 -1.41150666e+00]\n",
            " [ 4.62612753e-01 -6.44762551e-01]\n",
            " [ 7.11433110e-01  2.73203577e-02]\n",
            " [ 1.07532098e+00 -6.49732217e-01]\n",
            " [ 1.13020989e+00 -1.00813570e+00]\n",
            " [ 6.10407049e-01 -5.81826373e-01]\n",
            " [ 4.48688827e-01 -2.78946782e-01]\n",
            " [-5.83981569e-01 -1.68248937e+00]\n",
            " [ 6.75516257e-02  1.08544017e+00]\n",
            " [-1.41638942e+00  1.80792535e-01]\n",
            " [-2.55988352e-01 -4.45939159e-01]\n",
            " [ 1.26333600e+00  2.51594046e+00]\n",
            " [-1.34987518e+00  2.37741417e+00]\n",
            " [-8.55204832e-01  2.78556553e+00]\n",
            " [-1.08763267e+00  9.69988170e-01]\n",
            " [ 1.51225589e-01  6.74351868e-01]\n",
            " [-6.30777712e-01 -9.13966430e-01]\n",
            " [ 4.30485465e-02  1.17493081e-01]\n",
            " [ 3.88362472e-01  1.06220637e+00]\n",
            " [-2.35191944e+00 -1.05812142e+00]\n",
            " [ 1.67153447e+00 -4.56908277e-01]\n",
            " [-5.35204056e-02  3.71058366e-01]\n",
            " [ 4.80142080e-01  1.88117639e-03]\n",
            " [-2.86297524e-01 -3.58578285e-01]\n",
            " [-1.46550583e-01  1.87610640e+00]\n",
            " [ 1.09483043e+00  1.65915470e-01]\n",
            " [ 8.77681927e-01  6.87303531e-01]\n",
            " [ 1.61002081e+00 -9.06819350e-01]\n",
            " [-3.51437722e-01 -1.68018420e+00]\n",
            " [ 3.85848873e-02 -1.27709219e+00]\n",
            " [-2.55684680e+00  2.65766912e-01]\n",
            " [-8.34824458e-01 -6.50043794e-01]\n",
            " [-4.01775625e-01 -4.76315305e-01]\n",
            " [ 9.28285873e-01  2.59367155e-01]\n",
            " [-1.48137778e+00  4.90933685e-01]\n",
            " [ 6.11460632e-01  6.43452545e-02]\n",
            " [ 4.91814744e-01 -1.76867074e-01]\n",
            " [ 3.75548708e-01 -3.10898323e-01]\n",
            " [-9.01674092e-01  2.08281900e+00]\n",
            " [ 4.36060446e-01 -3.90059765e-01]\n",
            " [ 4.53526019e-01 -1.66445221e+00]\n",
            " [ 1.85169275e-01  8.52270048e-02]\n",
            " [ 1.25930534e+00  5.77716849e-01]\n",
            " [ 1.20671921e+00 -1.95843484e-01]\n",
            " [-1.75888295e-03  1.03402400e-01]\n",
            " [ 1.28927659e+00 -8.40036301e-01]\n",
            " [-2.10874345e-01 -1.13554360e+00]\n",
            " [-1.49788631e+00  1.10805671e+00]\n",
            " [-6.85497657e-01 -2.11726344e-01]\n",
            " [ 6.52807272e-01 -2.12107318e+00]\n",
            " [ 2.61098497e-01  3.51341105e-01]\n",
            " [-9.35320932e-01 -9.01696211e-01]\n",
            " [ 2.55806236e-01  6.89480155e-01]\n",
            " [ 3.39540544e-01  5.47012800e-01]\n",
            " [ 2.08684758e-01  3.13025492e-01]\n",
            " [ 1.44042579e+00 -8.47845602e-01]\n",
            " [-2.73475817e-01 -1.84582424e+00]\n",
            " [ 3.00268365e+00 -7.20133708e-02]\n",
            " [ 3.24882761e-01 -4.53106084e-01]\n",
            " [ 1.57872004e+00  7.60118822e-01]\n",
            " [-4.61454571e-01 -5.08881063e-02]\n",
            " [ 1.17318789e+00 -1.57132828e+00]\n",
            " [ 6.55703006e-01 -4.84769136e-01]\n",
            " [-6.96230633e-02  1.81179880e-01]\n",
            " [ 1.03855643e+00  4.63546670e-01]\n",
            " [ 5.86000412e-01 -4.17474619e-01]\n",
            " [-3.78256260e-01  1.21633085e+00]\n",
            " [ 2.67567864e-01 -1.43008616e-01]\n",
            " [-9.68939148e-01  3.07247974e-01]\n",
            " [ 1.49643663e+00  6.87445992e-02]\n",
            " [-2.03336729e+00 -5.23130801e-01]\n",
            " [ 1.13780343e+00 -5.06473771e-01]\n",
            " [ 3.83402421e-01  4.45720356e-01]\n",
            " [-1.51593676e+00 -9.62878807e-01]\n",
            " [-1.94845791e+00  8.95497201e-01]\n",
            " [ 1.94334200e-01  2.08276904e+00]\n",
            " [ 8.76008419e-02  1.58972496e+00]\n",
            " [ 8.59468386e-01 -6.52038569e-01]\n",
            " [-7.78233203e-01  7.15683204e-01]\n",
            " [-2.10169220e-01 -3.10606283e-01]\n",
            " [ 4.59144365e-01  3.33659332e-01]\n",
            " [-9.77498223e-01 -7.38075659e-01]\n",
            " [ 8.15546606e-01  2.79284210e+00]\n",
            " [ 5.48404303e-01  1.56392489e-02]\n",
            " [ 2.39057668e+00  1.17011534e+00]\n",
            " [-7.99583422e-01 -1.72604246e+00]\n",
            " [-1.20629950e+00  1.82830275e+00]\n",
            " [-3.78278963e-01  9.90399815e-01]\n",
            " [-1.39137495e+00 -1.92705202e+00]\n",
            " [-2.58943441e+00 -1.15224483e+00]\n",
            " [ 1.02970981e+00 -1.28188701e-01]]\n"
          ]
        }
      ]
    },
    {
      "cell_type": "code",
      "metadata": {
        "colab": {
          "base_uri": "https://localhost:8080/",
          "height": 281
        },
        "id": "IHZH7TrMrKXS",
        "outputId": "c2f74219-eeb2-4753-f60b-64ae624aca9e"
      },
      "source": [
        "x2 = principalComponents[:,0]\n",
        "y2 = principalComponents[:,1]\n",
        "plt.scatter(x2, y2, marker='^', color='b')\n",
        "plt.title('Plot Example')\n",
        "plt.show()"
      ],
      "execution_count": null,
      "outputs": [
        {
          "output_type": "display_data",
          "data": {
            "image/png": "[encoded data removed]",
            "text/plain": [
              "<Figure size 432x288 with 1 Axes>"
            ]
          },
          "metadata": {
            "needs_background": "light"
          }
        }
      ]
    },
    {
      "cell_type": "markdown",
      "metadata": {
        "id": "hl_ycyd9sF6X"
      },
      "source": [
        "**PCA to Speed-up Machine Learning Algorithms**"
      ]
    },
    {
      "cell_type": "markdown",
      "metadata": {
        "id": "5z5Mfv5kwjVz"
      },
      "source": [
        "Download and Load the Data"
      ]
    },
    {
      "cell_type": "code",
      "metadata": {
        "id": "DfMRZ62WwlDC"
      },
      "source": [
        "from sklearn.datasets import fetch_openml\n",
        "from sklearn.decomposition import PCA\n",
        "from sklearn.preprocessing import StandardScaler\n",
        "from sklearn import metrics\n",
        "from sklearn.model_selection import train_test_split\n",
        "import pandas as pd"
      ],
      "execution_count": null,
      "outputs": []
    },
    {
      "cell_type": "code",
      "metadata": {
        "colab": {
          "base_uri": "https://localhost:8080/"
        },
        "id": "LtXE3zMPwrrt",
        "outputId": "defc4260-bde6-4e6e-bdbe-35ff8b7cb0a5"
      },
      "source": [
        "# You can add the parameter data_home to wherever to where you want to download your data\n",
        "mnist = fetch_openml('mnist_784')\n",
        "mnist.data.shape\n",
        "\n",
        "# test_size: what proportion of original data is used for test set\n",
        "train_img, test_img, train_lbl, test_lbl = train_test_split(\n",
        "    mnist.data, mnist.target, test_size=1/7.0, random_state=0)\n",
        "print(train_img.shape)\n",
        "print(test_img.shape)\n"
      ],
      "execution_count": null,
      "outputs": [
        {
          "output_type": "stream",
          "name": "stdout",
          "text": [
            "(60000, 784)\n",
            "(10000, 784)\n"
          ]
        }
      ]
    },
    {
      "cell_type": "markdown",
      "metadata": {
        "id": "pfjbNmIwxGrC"
      },
      "source": [
        "\n",
        "Standardizing the Data"
      ]
    },
    {
      "cell_type": "code",
      "metadata": {
        "id": "gbX7yYnXxHzp"
      },
      "source": [
        "from sklearn.preprocessing import StandardScaler\n",
        "scaler = StandardScaler()\n",
        "\n",
        "# Fit on training set only.\n",
        "scaler.fit(train_img)\n",
        "\n",
        "# Apply transform to both the training set and the test set.\n",
        "train_img = scaler.transform(train_img)\n",
        "test_img = scaler.transform(test_img)"
      ],
      "execution_count": null,
      "outputs": []
    },
    {
      "cell_type": "markdown",
      "metadata": {
        "id": "boKC-CEExNXo"
      },
      "source": [
        "PCA to Speed up Machine Learning Algorithms"
      ]
    },
    {
      "cell_type": "code",
      "metadata": {
        "colab": {
          "base_uri": "https://localhost:8080/"
        },
        "id": "BM2YRSrlxOG5",
        "outputId": "eb6575fd-aae1-49a2-cc6c-867db06bb5bc"
      },
      "source": [
        "from sklearn.decomposition import PCA\n",
        "pca = PCA(.95) #Make an instance of the Model\n",
        "pca.fit(train_img)\n",
        "pca.n_components_\n",
        "\n",
        "train_img = pca.transform(train_img)\n",
        "test_img = pca.transform(test_img)\n",
        "print(train_img.shape)\n",
        "print(test_img.shape)"
      ],
      "execution_count": null,
      "outputs": [
        {
          "output_type": "stream",
          "name": "stdout",
          "text": [
            "(60000, 237)\n",
            "(10000, 237)\n"
          ]
        }
      ]
    },
    {
      "cell_type": "markdown",
      "metadata": {
        "id": "bTFZitEZxqqg"
      },
      "source": [
        "Learning a model"
      ]
    },
    {
      "cell_type": "code",
      "metadata": {
        "colab": {
          "base_uri": "https://localhost:8080/"
        },
        "id": "xUZDmRRfxrXw",
        "outputId": "5c0c24ab-bac3-4a4c-db5f-6bdfef937f41"
      },
      "source": [
        "from sklearn.linear_model import LogisticRegression\n",
        "# all parameters not specified are set to their defaults\n",
        "# default solver is incredibly slow thats why we change it\n",
        "# solver = 'lbfgs'\n",
        "logisticRegr = LogisticRegression(solver = 'lbfgs')\n",
        "logisticRegr.fit(train_img, train_lbl)"
      ],
      "execution_count": null,
      "outputs": [
        {
          "output_type": "stream",
          "name": "stderr",
          "text": [
            "/usr/local/lib/python3.7/dist-packages/sklearn/linear_model/_logistic.py:940: ConvergenceWarning: lbfgs failed to converge (status=1):\n",
            "STOP: TOTAL NO. of ITERATIONS REACHED LIMIT.\n",
            "\n",
            "Increase the number of iterations (max_iter) or scale the data as shown in:\n",
            "    https://scikit-learn.org/stable/modules/preprocessing.html\n",
            "Please also refer to the documentation for alternative solver options:\n",
            "    https://scikit-learn.org/stable/modules/linear_model.html#logistic-regression\n",
            "  extra_warning_msg=_LOGISTIC_SOLVER_CONVERGENCE_MSG)\n"
          ]
        },
        {
          "output_type": "execute_result",
          "data": {
            "text/plain": [
              "LogisticRegression(C=1.0, class_weight=None, dual=False, fit_intercept=True,\n",
              "                   intercept_scaling=1, l1_ratio=None, max_iter=100,\n",
              "                   multi_class='auto', n_jobs=None, penalty='l2',\n",
              "                   random_state=None, solver='lbfgs', tol=0.0001, verbose=0,\n",
              "                   warm_start=False)"
            ]
          },
          "metadata": {},
          "execution_count": 7
        }
      ]
    },
    {
      "cell_type": "markdown",
      "metadata": {
        "id": "4XrybM4qTJjG"
      },
      "source": [
        "Predict the labels of new data (new images)"
      ]
    },
    {
      "cell_type": "code",
      "metadata": {
        "colab": {
          "base_uri": "https://localhost:8080/"
        },
        "id": "ZExjx3UITOc1",
        "outputId": "c39d4ad7-dfb7-495f-a8b4-b884b7bc2dfb"
      },
      "source": [
        "# Returns a NumPy Array\n",
        "# Predict for One Observation (image)\n",
        "logisticRegr.predict(test_img[0].reshape(1,-1))\n",
        "score = logisticRegr.score(test_img, test_lbl)\n",
        "print(score)"
      ],
      "execution_count": null,
      "outputs": [
        {
          "output_type": "stream",
          "name": "stdout",
          "text": [
            "0.9199\n"
          ]
        }
      ]
    },
    {
      "cell_type": "markdown",
      "metadata": {
        "id": "YXJ32yMNTe2F"
      },
      "source": [
        "Number of Components, Variance, Time Table"
      ]
    },
    {
      "cell_type": "code",
      "metadata": {
        "colab": {
          "base_uri": "https://localhost:8080/",
          "height": 204
        },
        "id": "k1ak_bCrThw1",
        "outputId": "b5ecf05e-a2ed-411f-a69b-0fbfebb2089c"
      },
      "source": [
        "\n",
        "pd.DataFrame(data = [[1.00, 784, 48.94, .9158],\n",
        "                     [.99, 541, 34.69, .9169],\n",
        "                     [.95, 330, 13.89, .92],\n",
        "                     [.90, 236, 10.56, .9168],\n",
        "                     [.85, 184, 8.85, .9156]],\n",
        "             columns = ['Variance Retained',\n",
        "                      'Number of Components',\n",
        "                      'Time (seconds)',\n",
        "                      'Accuracy'])"
      ],
      "execution_count": null,
      "outputs": [
        {
          "output_type": "execute_result",
          "data": {
            "text/html": [
              "<div>\n",
              "<style scoped>\n",
              "    .dataframe tbody tr th:only-of-type {\n",
              "        vertical-align: middle;\n",
              "    }\n",
              "\n",
              "    .dataframe tbody tr th {\n",
              "        vertical-align: top;\n",
              "    }\n",
              "\n",
              "    .dataframe thead th {\n",
              "        text-align: right;\n",
              "    }\n",
              "</style>\n",
              "<table border=\"1\" class=\"dataframe\">\n",
              "  <thead>\n",
              "    <tr style=\"text-align: right;\">\n",
              "      <th></th>\n",
              "      <th>Variance Retained</th>\n",
              "      <th>Number of Components</th>\n",
              "      <th>Time (seconds)</th>\n",
              "      <th>Accuracy</th>\n",
              "    </tr>\n",
              "  </thead>\n",
              "  <tbody>\n",
              "    <tr>\n",
              "      <th>0</th>\n",
              "      <td>1.00</td>\n",
              "      <td>784</td>\n",
              "      <td>48.94</td>\n",
              "      <td>0.9158</td>\n",
              "    </tr>\n",
              "    <tr>\n",
              "      <th>1</th>\n",
              "      <td>0.99</td>\n",
              "      <td>541</td>\n",
              "      <td>34.69</td>\n",
              "      <td>0.9169</td>\n",
              "    </tr>\n",
              "    <tr>\n",
              "      <th>2</th>\n",
              "      <td>0.95</td>\n",
              "      <td>330</td>\n",
              "      <td>13.89</td>\n",
              "      <td>0.9200</td>\n",
              "    </tr>\n",
              "    <tr>\n",
              "      <th>3</th>\n",
              "      <td>0.90</td>\n",
              "      <td>236</td>\n",
              "      <td>10.56</td>\n",
              "      <td>0.9168</td>\n",
              "    </tr>\n",
              "    <tr>\n",
              "      <th>4</th>\n",
              "      <td>0.85</td>\n",
              "      <td>184</td>\n",
              "      <td>8.85</td>\n",
              "      <td>0.9156</td>\n",
              "    </tr>\n",
              "  </tbody>\n",
              "</table>\n",
              "</div>"
            ],
            "text/plain": [
              "   Variance Retained  Number of Components  Time (seconds)  Accuracy\n",
              "0               1.00                   784           48.94    0.9158\n",
              "1               0.99                   541           34.69    0.9169\n",
              "2               0.95                   330           13.89    0.9200\n",
              "3               0.90                   236           10.56    0.9168\n",
              "4               0.85                   184            8.85    0.9156"
            ]
          },
          "metadata": {},
          "execution_count": 9
        }
      ]
    }
  ]
}